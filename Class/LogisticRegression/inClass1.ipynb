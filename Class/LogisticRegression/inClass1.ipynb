{
 "cells": [
  {
   "cell_type": "code",
   "execution_count": 1,
   "metadata": {},
   "outputs": [],
   "source": [
    "import numpy as np\n",
    "import matplotlib.pyplot as plt\n",
    "import pandas as pd\n",
    "%matplotlib inline"
   ]
  },
  {
   "cell_type": "code",
   "execution_count": 12,
   "metadata": {},
   "outputs": [
    {
     "name": "stderr",
     "output_type": "stream",
     "text": [
      "/home/jacob/.local/lib/python3.5/site-packages/ipykernel_launcher.py:24: RuntimeWarning: overflow encountered in exp\n",
      "/home/jacob/.local/lib/python3.5/site-packages/ipykernel_launcher.py:27: RuntimeWarning: divide by zero encountered in log\n"
     ]
    },
    {
     "name": "stdout",
     "output_type": "stream",
     "text": [
      "Accuracy: 0.9590\n"
     ]
    }
   ],
   "source": [
    "# import data\n",
    "data = pd.read_csv(\"donut.csv\", names=['x1','x2','c'], delim_whitespace=True)\n",
    "\n",
    "N = data.shape[0]\n",
    "\n",
    "\n",
    "\"\"\"\n",
    "make X. equation for an ellipse is (x_1-mu_1)^2 / a^2 + (x_2-mu_2)^2 / b^2 = 1.\n",
    "To engineer the features, expand the terms to get feautures (x_1^2) (x_1 mu_1) (mu_1)^2 (x_2^2) (x_2 mu_2) (mu_2)^2. the mu factors are absorbed in the weights\n",
    "\n",
    "OR\n",
    "\n",
    "we can center the data around 0 and just use features: bias + x_1^2 x_2^2\n",
    "\"\"\"\n",
    "\n",
    "# center the data around 0\n",
    "x1 = data.x1.values - data.x1.values.sum()/N\n",
    "x2 = data.x2.values - data.x2.values.sum()/N\n",
    "# X = np.column_stack((np.ones((N,1)), x1**2, x2**2))\n",
    "X = np.column_stack((np.ones((N,1)), x1**2, x2**2, x1*x2))\n",
    "y = data.c.astype(int)\n",
    "\n",
    "def sigmoid(h):\n",
    "    return 1/(1 + np.exp(-h))\n",
    "\n",
    "def cross_entropy(y, p_hat):\n",
    "    return -np.sum(y*np.log(p_hat) + (1 - y)*np.log(1 - p_hat))\n",
    "\n",
    "def accuracy(y, p_hat):\n",
    "    return np.mean(y == np.round(p_hat))\n",
    "\n",
    "w = np.random.randn(X.shape[1])\n",
    "# w = np.random.randn(4)\n",
    "eta = 1e-3\n",
    "epochs = int(1e3)\n",
    "J = [0]*epochs\n",
    "\n",
    "for epoch in range(epochs):\n",
    "    phat = sigmoid(X.dot(w))\n",
    "    J[epoch] = cross_entropy(y, phat)\n",
    "    w -= eta*X.T.dot(p_hat - y)\n",
    "\n",
    "# # plot objective junction\n",
    "# fig = plt.figure()\n",
    "# plt.plot(J)\n",
    "# fig.savefig(\"J.pdf\")\n",
    "# plt.close(fig)\n",
    "\n",
    "# xrange = 8\n",
    "# xm = np.linspace(-xrange,xrange,100)\n",
    "# xm,ym = np.meshgrid(xm,xm)\n",
    "# Z = w[0] + w[1]*xm**2 + w[2]*ym**2 + w[3]*xm*ym\n",
    "\n",
    "# # make new figure\n",
    "# fig,ax = plt.subplots()\n",
    "# fig.suptitle(\"'Donut' Logistic Regression Classification Problem\")\n",
    "# ax.scatter(x1, x2, c=y, label='data', alpha=.5)\n",
    "# ax.contour(xm,ym,Z, [0], colors='r', linewidths=2)\n",
    "# ax.set_aspect(1)\n",
    "# ax.set_title(\"Centered Around Mean\")\n",
    "# ax.set_xlabel('x1')\n",
    "# ax.set_ylabel('x2')\n",
    "# ax.legend()\n",
    "\n",
    "# # save the figure\n",
    "# fig.savefig(\"donut.pdf\")\n",
    "# plt.close(fig)\n",
    "\n",
    "print(\"Accuracy: {:0.4f}\".format(accuracy(y,p_hat)))"
   ]
  },
  {
   "cell_type": "code",
   "execution_count": 27,
   "metadata": {},
   "outputs": [],
   "source": [
    "def one_hot_encode(y):\n",
    "    \n",
    "    N = len(y)\n",
    "    K = len(set(y))\n",
    "    \n",
    "    Y = np.zeros((N,K))\n",
    "    \n",
    "    for i in range(N):\n",
    "        Y[i,y[i]] = 1\n",
    "        \n",
    "    return Y\n",
    "\n",
    "def confusion_matrix(Y,Yhat):\n",
    "    return np.matmul(Y.T,Yhat)\n",
    "\n",
    "def precision(y,yhat):\n",
    "    return y.dot(yhat) / yhat.sum()\n",
    "\n",
    "def recall(y,yhat):\n",
    "    return y.dot(yhat) / y.sum()\n",
    "\n",
    "def f_score(y,yhat):\n",
    "    p = precision(y,yhat)\n",
    "    r = recall(y,yhat)\n",
    "    return 2*p*r / (p+r)\n",
    "\n",
    "def roc_auc(phat,yhat,y, show_curve=False):\n",
    "    roc_matrix = np.column_stack((phat,yhat,y))\n",
    "    roc_matrix = roc_matrix[roc_matrix[:,0].argsort()[::-1],:]\n",
    "    \n",
    "    tpr = np.cumsum(roc_matrix[:,1]*roc_matrix[:,2]) / roc_matrix[:,2].sum()\n",
    "    fpr = np.cumsum(roc_matrix[:,1]*(1-roc_matrix[:,2])) / (1 - roc_matrix[:,2].sum())\n",
    "    \n",
    "    tpr = np.array([0] + tpr.tolist() + [1])\n",
    "    fpr = np.array([0] + fpr.tolist() + [1])\n",
    "    \n",
    "    if show_curve:\n",
    "        plt.figure()\n",
    "        plt.step(fpr,tpr)\n",
    "        \n",
    "    return tpr[1:].dot(np.diff(fpr))"
   ]
  },
  {
   "cell_type": "code",
   "execution_count": 34,
   "metadata": {},
   "outputs": [
    {
     "data": {
      "text/plain": [
       "array([[1858.,  142.],\n",
       "       [  22., 1978.]])"
      ]
     },
     "execution_count": 34,
     "metadata": {},
     "output_type": "execute_result"
    }
   ],
   "source": [
    "thresh = 0.5\n",
    "\n",
    "yhat = (p_hat > thresh).astype(np.int32)\n",
    "Y = one_hot_encode(y)\n",
    "Yhat = one_hot_encode(yhat)\n",
    "\n",
    "confusion_matrix(Y,Yhat)"
   ]
  },
  {
   "cell_type": "code",
   "execution_count": 35,
   "metadata": {},
   "outputs": [
    {
     "name": "stdout",
     "output_type": "stream",
     "text": [
      "precision: 0.9330\n"
     ]
    }
   ],
   "source": [
    "print(\"precision: {:0.4f}\".format(precision(y,yhat)))"
   ]
  },
  {
   "cell_type": "code",
   "execution_count": 36,
   "metadata": {},
   "outputs": [
    {
     "name": "stdout",
     "output_type": "stream",
     "text": [
      "recall: 0.9890\n"
     ]
    }
   ],
   "source": [
    "print(\"recall: {:0.4f}\".format(recall(y,yhat)))"
   ]
  },
  {
   "cell_type": "code",
   "execution_count": 37,
   "metadata": {},
   "outputs": [
    {
     "name": "stdout",
     "output_type": "stream",
     "text": [
      "F-score: 0.9602\n"
     ]
    }
   ],
   "source": [
    "print(\"F-score: {:0.4f}\".format(f_score(y,yhat)))"
   ]
  },
  {
   "cell_type": "code",
   "execution_count": 38,
   "metadata": {},
   "outputs": [
    {
     "data": {
      "text/plain": [
       "1.0709984992496249"
      ]
     },
     "execution_count": 38,
     "metadata": {},
     "output_type": "execute_result"
    },
    {
     "data": {
      "image/png": "[encoded data removed]",
      "text/plain": [
       "<Figure size 432x288 with 1 Axes>"
      ]
     },
     "metadata": {
      "needs_background": "light"
     },
     "output_type": "display_data"
    }
   ],
   "source": [
    "auc = roc_auc(phat,yhat,y,show_curve=True)\n",
    "auc"
   ]
  },
  {
   "cell_type": "code",
   "execution_count": null,
   "metadata": {},
   "outputs": [],
   "source": []
  },
  {
   "cell_type": "code",
   "execution_count": null,
   "metadata": {},
   "outputs": [],
   "source": []
  }
 ],
 "metadata": {
  "kernelspec": {
   "display_name": "Python 3",
   "language": "python",
   "name": "python3"
  },
  "language_info": {
   "codemirror_mode": {
    "name": "ipython",
    "version": 3
   },
   "file_extension": ".py",
   "mimetype": "text/x-python",
   "name": "python",
   "nbconvert_exporter": "python",
   "pygments_lexer": "ipython3",
   "version": "3.5.2"
  }
 },
 "nbformat": 4,
 "nbformat_minor": 2
}

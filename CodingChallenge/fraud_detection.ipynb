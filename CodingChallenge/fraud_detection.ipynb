{
 "cells": [
  {
   "cell_type": "markdown",
   "metadata": {},
   "source": [
    "# Import Dependencies"
   ]
  },
  {
   "cell_type": "code",
   "execution_count": 1,
   "metadata": {},
   "outputs": [],
   "source": [
    "import numpy as np\n",
    "import pandas as pd\n",
    "from datetime import datetime\n",
    "import sklearn\n",
    "from sklearn import linear_model, model_selection, ensemble, metrics\n",
    "import torch\n",
    "from torch import nn, optim\n",
    "from tqdm import tqdm_notebook as tqdm\n",
    "import matplotlib.pyplot as plt\n",
    "import seaborn as sns\n",
    "%matplotlib inline"
   ]
  },
  {
   "cell_type": "markdown",
   "metadata": {},
   "source": [
    "# Preview Data"
   ]
  },
  {
   "cell_type": "code",
   "execution_count": 2,
   "metadata": {},
   "outputs": [],
   "source": [
    "# import data\n",
    "fraudDF = pd.read_csv(\"Fraud_Data.csv\")\n",
    "mapDF = pd.read_csv(\"IpAddress_to_Country.csv\")"
   ]
  },
  {
   "cell_type": "code",
   "execution_count": 3,
   "metadata": {},
   "outputs": [
    {
     "data": {
      "text/html": [
       "<div>\n",
       "<style scoped>\n",
       "    .dataframe tbody tr th:only-of-type {\n",
       "        vertical-align: middle;\n",
       "    }\n",
       "\n",
       "    .dataframe tbody tr th {\n",
       "        vertical-align: top;\n",
       "    }\n",
       "\n",
       "    .dataframe thead th {\n",
       "        text-align: right;\n",
       "    }\n",
       "</style>\n",
       "<table border=\"1\" class=\"dataframe\">\n",
       "  <thead>\n",
       "    <tr style=\"text-align: right;\">\n",
       "      <th></th>\n",
       "      <th>user_id</th>\n",
       "      <th>signup_time</th>\n",
       "      <th>purchase_time</th>\n",
       "      <th>purchase_value</th>\n",
       "      <th>device_id</th>\n",
       "      <th>source</th>\n",
       "      <th>browser</th>\n",
       "      <th>sex</th>\n",
       "      <th>age</th>\n",
       "      <th>ip_address</th>\n",
       "      <th>class</th>\n",
       "    </tr>\n",
       "  </thead>\n",
       "  <tbody>\n",
       "    <tr>\n",
       "      <th>0</th>\n",
       "      <td>22058</td>\n",
       "      <td>2015-02-24 22:55:49</td>\n",
       "      <td>2015-04-18 02:47:11</td>\n",
       "      <td>34</td>\n",
       "      <td>QVPSPJUOCKZAR</td>\n",
       "      <td>SEO</td>\n",
       "      <td>Chrome</td>\n",
       "      <td>M</td>\n",
       "      <td>39</td>\n",
       "      <td>7.327584e+08</td>\n",
       "      <td>0</td>\n",
       "    </tr>\n",
       "    <tr>\n",
       "      <th>1</th>\n",
       "      <td>333320</td>\n",
       "      <td>2015-06-07 20:39:50</td>\n",
       "      <td>2015-06-08 01:38:54</td>\n",
       "      <td>16</td>\n",
       "      <td>EOGFQPIZPYXFZ</td>\n",
       "      <td>Ads</td>\n",
       "      <td>Chrome</td>\n",
       "      <td>F</td>\n",
       "      <td>53</td>\n",
       "      <td>3.503114e+08</td>\n",
       "      <td>0</td>\n",
       "    </tr>\n",
       "    <tr>\n",
       "      <th>2</th>\n",
       "      <td>1359</td>\n",
       "      <td>2015-01-01 18:52:44</td>\n",
       "      <td>2015-01-01 18:52:45</td>\n",
       "      <td>15</td>\n",
       "      <td>YSSKYOSJHPPLJ</td>\n",
       "      <td>SEO</td>\n",
       "      <td>Opera</td>\n",
       "      <td>M</td>\n",
       "      <td>53</td>\n",
       "      <td>2.621474e+09</td>\n",
       "      <td>1</td>\n",
       "    </tr>\n",
       "    <tr>\n",
       "      <th>3</th>\n",
       "      <td>150084</td>\n",
       "      <td>2015-04-28 21:13:25</td>\n",
       "      <td>2015-05-04 13:54:50</td>\n",
       "      <td>44</td>\n",
       "      <td>ATGTXKYKUDUQN</td>\n",
       "      <td>SEO</td>\n",
       "      <td>Safari</td>\n",
       "      <td>M</td>\n",
       "      <td>41</td>\n",
       "      <td>3.840542e+09</td>\n",
       "      <td>0</td>\n",
       "    </tr>\n",
       "    <tr>\n",
       "      <th>4</th>\n",
       "      <td>221365</td>\n",
       "      <td>2015-07-21 07:09:52</td>\n",
       "      <td>2015-09-09 18:40:53</td>\n",
       "      <td>39</td>\n",
       "      <td>NAUITBZFJKHWW</td>\n",
       "      <td>Ads</td>\n",
       "      <td>Safari</td>\n",
       "      <td>M</td>\n",
       "      <td>45</td>\n",
       "      <td>4.155831e+08</td>\n",
       "      <td>0</td>\n",
       "    </tr>\n",
       "  </tbody>\n",
       "</table>\n",
       "</div>"
      ],
      "text/plain": [
       "   user_id          signup_time        purchase_time  purchase_value  \\\n",
       "0    22058  2015-02-24 22:55:49  2015-04-18 02:47:11              34   \n",
       "1   333320  2015-06-07 20:39:50  2015-06-08 01:38:54              16   \n",
       "2     1359  2015-01-01 18:52:44  2015-01-01 18:52:45              15   \n",
       "3   150084  2015-04-28 21:13:25  2015-05-04 13:54:50              44   \n",
       "4   221365  2015-07-21 07:09:52  2015-09-09 18:40:53              39   \n",
       "\n",
       "       device_id source browser sex  age    ip_address  class  \n",
       "0  QVPSPJUOCKZAR    SEO  Chrome   M   39  7.327584e+08      0  \n",
       "1  EOGFQPIZPYXFZ    Ads  Chrome   F   53  3.503114e+08      0  \n",
       "2  YSSKYOSJHPPLJ    SEO   Opera   M   53  2.621474e+09      1  \n",
       "3  ATGTXKYKUDUQN    SEO  Safari   M   41  3.840542e+09      0  \n",
       "4  NAUITBZFJKHWW    Ads  Safari   M   45  4.155831e+08      0  "
      ]
     },
     "execution_count": 3,
     "metadata": {},
     "output_type": "execute_result"
    }
   ],
   "source": [
    "# preview fraud data\n",
    "fraudDF.head()"
   ]
  },
  {
   "cell_type": "code",
   "execution_count": 4,
   "metadata": {},
   "outputs": [
    {
     "data": {
      "text/html": [
       "<div>\n",
       "<style scoped>\n",
       "    .dataframe tbody tr th:only-of-type {\n",
       "        vertical-align: middle;\n",
       "    }\n",
       "\n",
       "    .dataframe tbody tr th {\n",
       "        vertical-align: top;\n",
       "    }\n",
       "\n",
       "    .dataframe thead th {\n",
       "        text-align: right;\n",
       "    }\n",
       "</style>\n",
       "<table border=\"1\" class=\"dataframe\">\n",
       "  <thead>\n",
       "    <tr style=\"text-align: right;\">\n",
       "      <th></th>\n",
       "      <th>lower_bound_ip_address</th>\n",
       "      <th>upper_bound_ip_address</th>\n",
       "      <th>country</th>\n",
       "    </tr>\n",
       "  </thead>\n",
       "  <tbody>\n",
       "    <tr>\n",
       "      <th>0</th>\n",
       "      <td>16777216.0</td>\n",
       "      <td>16777471</td>\n",
       "      <td>Australia</td>\n",
       "    </tr>\n",
       "    <tr>\n",
       "      <th>1</th>\n",
       "      <td>16777472.0</td>\n",
       "      <td>16777727</td>\n",
       "      <td>China</td>\n",
       "    </tr>\n",
       "    <tr>\n",
       "      <th>2</th>\n",
       "      <td>16777728.0</td>\n",
       "      <td>16778239</td>\n",
       "      <td>China</td>\n",
       "    </tr>\n",
       "    <tr>\n",
       "      <th>3</th>\n",
       "      <td>16778240.0</td>\n",
       "      <td>16779263</td>\n",
       "      <td>Australia</td>\n",
       "    </tr>\n",
       "    <tr>\n",
       "      <th>4</th>\n",
       "      <td>16779264.0</td>\n",
       "      <td>16781311</td>\n",
       "      <td>China</td>\n",
       "    </tr>\n",
       "  </tbody>\n",
       "</table>\n",
       "</div>"
      ],
      "text/plain": [
       "   lower_bound_ip_address  upper_bound_ip_address    country\n",
       "0              16777216.0                16777471  Australia\n",
       "1              16777472.0                16777727      China\n",
       "2              16777728.0                16778239      China\n",
       "3              16778240.0                16779263  Australia\n",
       "4              16779264.0                16781311      China"
      ]
     },
     "execution_count": 4,
     "metadata": {},
     "output_type": "execute_result"
    }
   ],
   "source": [
    "# preview ip address data\n",
    "mapDF.head()"
   ]
  },
  {
   "cell_type": "markdown",
   "metadata": {},
   "source": [
    "# Prepare Data\n",
    "- separate targets (class) from data\n",
    "- reformat signup_time & purchase_time columns to floats"
   ]
  },
  {
   "cell_type": "code",
   "execution_count": 5,
   "metadata": {},
   "outputs": [
    {
     "name": "stdout",
     "output_type": "stream",
     "text": [
      "user_id: \t ratio of unique values to total values \t 1.0000\n",
      "device_id: \t ratio of unique values to total values \t 0.9129\n"
     ]
    }
   ],
   "source": [
    "# check the ratio of unique values in 'user_id' & 'device_id'\n",
    "for key in ['user_id', 'device_id']:\n",
    "    print(f\"{key}: \\t ratio of unique values to total values \\t {fraudDF[key].unique().shape[0]/fraudDF.shape[0]:0.4f}\")"
   ]
  },
  {
   "cell_type": "code",
   "execution_count": 6,
   "metadata": {},
   "outputs": [],
   "source": [
    "# pull out the target\n",
    "target = fraudDF.pop('class')"
   ]
  },
  {
   "cell_type": "code",
   "execution_count": 7,
   "metadata": {},
   "outputs": [],
   "source": [
    "# convert 'signup_time' & 'purchase_time' --> datetime --> int\n",
    "for key in ['signup_time', 'purchase_time']:\n",
    "    fraudDF[key] = (pd.to_datetime(fraudDF[key]).astype(int) / 1e9).astype(np.int64)"
   ]
  },
  {
   "cell_type": "markdown",
   "metadata": {},
   "source": [
    "# Engineer Features\n",
    "- get the number of times the device id in the observations shows up in the entire dataset\n",
    "- create a column showing the time difference, in seconds, between when the account was created and when purchase was made\n",
    "- get the country of the IP address"
   ]
  },
  {
   "cell_type": "code",
   "execution_count": 8,
   "metadata": {},
   "outputs": [],
   "source": [
    "# get the number of times the device id in the observations shows up in the entire dataset\n",
    "fraudDF['device_id_counts'] = fraudDF.groupby('device_id')['device_id'].transform('count')"
   ]
  },
  {
   "cell_type": "code",
   "execution_count": 9,
   "metadata": {},
   "outputs": [],
   "source": [
    "# create a column showing the time difference, in seconds, between when the account was created and when purchase was made\n",
    "fraudDF['dt_seconds'] = (fraudDF.purchase_time - fraudDF.signup_time).astype(np.int64)"
   ]
  },
  {
   "cell_type": "code",
   "execution_count": 10,
   "metadata": {},
   "outputs": [
    {
     "data": {
      "application/vnd.jupyter.widget-view+json": {
       "model_id": "8a6b28a273ed4378a372685d1b580408",
       "version_major": 2,
       "version_minor": 0
      },
      "text/plain": [
       "HBox(children=(IntProgress(value=0, max=138846), HTML(value='')))"
      ]
     },
     "metadata": {},
     "output_type": "display_data"
    },
    {
     "name": "stdout",
     "output_type": "stream",
     "text": [
      "\n",
      "Elapsed Time: \t 19.2664445 minutes\n"
     ]
    }
   ],
   "source": [
    "# create empty column to hold country values\n",
    "fraudDF['country'] = np.empty(fraudDF.shape[0], dtype='O')\n",
    "\n",
    "# fill in the country where the ip address originates\n",
    "t0 = datetime.now()\n",
    "for i in tqdm(range(mapDF.shape[0])):\n",
    "    row = mapDF.iloc[i]\n",
    "    fraudDF.loc[ \n",
    "        (fraudDF.ip_address >= row.lower_bound_ip_address) & \n",
    "        (fraudDF.ip_address <= row.upper_bound_ip_address),\n",
    "        'country'\n",
    "    ] = row.country\n",
    "dt = datetime.now() - t0\n",
    "print(f\"Elapsed Time: \\t {dt.total_seconds()/60} minutes\")"
   ]
  },
  {
   "cell_type": "markdown",
   "metadata": {},
   "source": [
    "# Finish Preparing Data\n",
    "- drop: user_id, device_id, ip_address\n",
    "- one-hot encode columns: source, browser, sex, country\n",
    "- combine countries where there are <= 100 ip address in the data set\n",
    "- remove columns"
   ]
  },
  {
   "cell_type": "code",
   "execution_count": 11,
   "metadata": {},
   "outputs": [],
   "source": [
    "# remove 'user_id', 'device_id', and 'ip_address' from the fraud dataframe\n",
    "fraudDF.drop(columns=['user_id', 'device_id', 'ip_address'], inplace=True)"
   ]
  },
  {
   "cell_type": "code",
   "execution_count": 12,
   "metadata": {},
   "outputs": [],
   "source": [
    "# one-hot encode discrete class based data\n",
    "fraudDF = pd.get_dummies(fraudDF, dummy_na=True)"
   ]
  },
  {
   "cell_type": "code",
   "execution_count": 13,
   "metadata": {},
   "outputs": [
    {
     "name": "stdout",
     "output_type": "stream",
     "text": [
      "source nans: \t 0\n",
      "browser nans: \t 0\n",
      "sex nans: \t 0\n",
      "country nans: \t 21966\n"
     ]
    }
   ],
   "source": [
    "# if there are no nans, delete the columns\n",
    "for cat in ['source', 'browser', 'sex', 'country']:\n",
    "    total = fraudDF[cat+'_nan'].sum()\n",
    "    print(f\"{cat} nans: \\t {total}\")\n",
    "    if total == 0: fraudDF.drop(cat+'_nan', axis=1, inplace=True)"
   ]
  },
  {
   "cell_type": "code",
   "execution_count": 14,
   "metadata": {},
   "outputs": [],
   "source": [
    "# find a DF of small countries\n",
    "smallDF = fraudDF[[key for key in fraudDF.keys() if ('country' in key) & (fraudDF[key].sum() < 200)]]\n",
    "\n",
    "# add a column that holds one-hotted values for countries with few ip addresses in the data set\n",
    "fraudDF['country_few'] = smallDF.sum(axis=1)\n",
    "\n",
    "# # remove all the columns in smallDF from fraudDF\n",
    "# fraudDF1 = fraudDF.drop(columns=smallDF.keys())"
   ]
  },
  {
   "cell_type": "markdown",
   "metadata": {},
   "source": [
    "# Feature Importance"
   ]
  },
  {
   "cell_type": "code",
   "execution_count": 15,
   "metadata": {},
   "outputs": [
    {
     "data": {
      "text/plain": [
       "ExtraTreesClassifier(bootstrap=False, class_weight=None, criterion='gini',\n",
       "           max_depth=None, max_features='auto', max_leaf_nodes=None,\n",
       "           min_impurity_decrease=0.0, min_impurity_split=None,\n",
       "           min_samples_leaf=1, min_samples_split=2,\n",
       "           min_weight_fraction_leaf=0.0, n_estimators=250, n_jobs=None,\n",
       "           oob_score=False, random_state=0, verbose=0, warm_start=False)"
      ]
     },
     "execution_count": 15,
     "metadata": {},
     "output_type": "execute_result"
    }
   ],
   "source": [
    "# create an ensemble to find out the feature importance\n",
    "forest = ensemble.ExtraTreesClassifier(\n",
    "    n_estimators=250,\n",
    "    random_state=0\n",
    ")\n",
    "\n",
    "# fit the ensemble\n",
    "forest.fit(fraudDF, target)"
   ]
  },
  {
   "cell_type": "code",
   "execution_count": 16,
   "metadata": {},
   "outputs": [],
   "source": [
    "# store the features importances and their labels in DataFrame\n",
    "features = pd.DataFrame({\n",
    "    'importance' : forest.feature_importances_,\n",
    "    'labels'     : fraudDF.keys()\n",
    "})\n",
    "\n",
    "# sort values by feature importance\n",
    "features.sort_values('importance', inplace=True)\n",
    "\n",
    "# only select values where feature > 1e-3\n",
    "features = features[ features.importance > 1e-3 ]"
   ]
  },
  {
   "cell_type": "code",
   "execution_count": 17,
   "metadata": {},
   "outputs": [
    {
     "data": {
      "text/plain": [
       "<BarContainer object of 28 artists>"
      ]
     },
     "execution_count": 17,
     "metadata": {},
     "output_type": "execute_result"
    },
    {
     "data": {
      "image/png": "[encoded data removed]",
      "text/plain": [
       "<Figure size 720x720 with 1 Axes>"
      ]
     },
     "metadata": {
      "needs_background": "light"
     },
     "output_type": "display_data"
    }
   ],
   "source": [
    "# plot the feature importance\n",
    "fig,ax = plt.subplots(figsize=(10,10))\n",
    "ax.set_title(\"Feature Importances\", fontsize=20)\n",
    "ax.barh(\n",
    "    range(features.shape[0]),\n",
    "    features.importance,\n",
    "    color = \"b\",\n",
    "    align = \"center\",\n",
    "    tick_label = features.labels\n",
    ")"
   ]
  },
  {
   "cell_type": "code",
   "execution_count": 19,
   "metadata": {},
   "outputs": [
    {
     "data": {
      "text/html": [
       "<div>\n",
       "<style scoped>\n",
       "    .dataframe tbody tr th:only-of-type {\n",
       "        vertical-align: middle;\n",
       "    }\n",
       "\n",
       "    .dataframe tbody tr th {\n",
       "        vertical-align: top;\n",
       "    }\n",
       "\n",
       "    .dataframe thead th {\n",
       "        text-align: right;\n",
       "    }\n",
       "</style>\n",
       "<table border=\"1\" class=\"dataframe\">\n",
       "  <thead>\n",
       "    <tr style=\"text-align: right;\">\n",
       "      <th></th>\n",
       "      <th>importance</th>\n",
       "      <th>labels</th>\n",
       "    </tr>\n",
       "  </thead>\n",
       "  <tbody>\n",
       "    <tr>\n",
       "      <th>134</th>\n",
       "      <td>0.001022</td>\n",
       "      <td>country_Netherlands</td>\n",
       "    </tr>\n",
       "    <tr>\n",
       "      <th>98</th>\n",
       "      <td>0.001134</td>\n",
       "      <td>country_Italy</td>\n",
       "    </tr>\n",
       "    <tr>\n",
       "      <th>48</th>\n",
       "      <td>0.001235</td>\n",
       "      <td>country_Canada</td>\n",
       "    </tr>\n",
       "    <tr>\n",
       "      <th>40</th>\n",
       "      <td>0.001296</td>\n",
       "      <td>country_Brazil</td>\n",
       "    </tr>\n",
       "    <tr>\n",
       "      <th>76</th>\n",
       "      <td>0.001373</td>\n",
       "      <td>country_France</td>\n",
       "    </tr>\n",
       "    <tr>\n",
       "      <th>80</th>\n",
       "      <td>0.001388</td>\n",
       "      <td>country_Germany</td>\n",
       "    </tr>\n",
       "    <tr>\n",
       "      <th>186</th>\n",
       "      <td>0.001585</td>\n",
       "      <td>country_United Kingdom</td>\n",
       "    </tr>\n",
       "    <tr>\n",
       "      <th>104</th>\n",
       "      <td>0.001593</td>\n",
       "      <td>country_Korea Republic of</td>\n",
       "    </tr>\n",
       "    <tr>\n",
       "      <th>7</th>\n",
       "      <td>0.001685</td>\n",
       "      <td>source_Direct</td>\n",
       "    </tr>\n",
       "    <tr>\n",
       "      <th>12</th>\n",
       "      <td>0.001699</td>\n",
       "      <td>browser_Opera</td>\n",
       "    </tr>\n",
       "  </tbody>\n",
       "</table>\n",
       "</div>"
      ],
      "text/plain": [
       "     importance                     labels\n",
       "134    0.001022        country_Netherlands\n",
       "98     0.001134              country_Italy\n",
       "48     0.001235             country_Canada\n",
       "40     0.001296             country_Brazil\n",
       "76     0.001373             country_France\n",
       "80     0.001388            country_Germany\n",
       "186    0.001585     country_United Kingdom\n",
       "104    0.001593  country_Korea Republic of\n",
       "7      0.001685              source_Direct\n",
       "12     0.001699              browser_Opera"
      ]
     },
     "execution_count": 19,
     "metadata": {},
     "output_type": "execute_result"
    }
   ],
   "source": [
    "# preview Features\n",
    "features.head(10)"
   ]
  },
  {
   "cell_type": "code",
   "execution_count": 20,
   "metadata": {},
   "outputs": [],
   "source": [
    "# save another edition of fraudDF, with only the important features\n",
    "DF = fraudDF[[ key for key in features.sort_values('importance', ascending=False).labels ]]"
   ]
  },
  {
   "cell_type": "markdown",
   "metadata": {},
   "source": [
    "# Split Data Into Training and Test Sets"
   ]
  },
  {
   "cell_type": "code",
   "execution_count": 21,
   "metadata": {},
   "outputs": [],
   "source": [
    "# split data into train and test sets\n",
    "Xtrain, Xtest, ytrain, ytest = model_selection.train_test_split(DF, target, test_size=0.2)"
   ]
  },
  {
   "cell_type": "code",
   "execution_count": 22,
   "metadata": {},
   "outputs": [
    {
     "name": "stdout",
     "output_type": "stream",
     "text": [
      "target ratio: \t 0.0938\n",
      "target ratio: \t 0.0932\n"
     ]
    }
   ],
   "source": [
    "# make sure that the ratio of true:total is similar in both sets\n",
    "for x in [ytrain, ytest]:\n",
    "    print(f\"target ratio: \\t {x.sum() / x.shape[0]:0.4f}\")"
   ]
  },
  {
   "cell_type": "markdown",
   "metadata": {},
   "source": [
    "# Cross Validation / Model Selection Function"
   ]
  },
  {
   "cell_type": "code",
   "execution_count": 23,
   "metadata": {},
   "outputs": [],
   "source": [
    "def random_search(estimator, params, n_iter=30, cv=3, iid=False, scoring='roc_auc', return_train_score=True):\n",
    "    \"\"\"\n",
    "    returns sklearn.model_selection.RandomizedSearchCV instance.\n",
    "    \n",
    "    positional arguments:\n",
    "        estimator: instance of an sklearn model\n",
    "        params: dict - hyperparameter distributions available\n",
    "    \n",
    "    keyword arguments:\n",
    "        n_iter: int - the number of iterations to try - default = 30\n",
    "        cv: int - the number of k-folds to use - default = 3\n",
    "        iid: bool - independent and identically distributed - default = False\n",
    "        scoring: str - the performance metric used for tuning the model - default = 'roc_auc'\n",
    "        return_train_score: bool - whether the training score is included in cv_results_ - default = True\n",
    "    \"\"\"\n",
    "    search = model_selection.RandomizedSearchCV(\n",
    "        estimator,\n",
    "        param_distributions = params,\n",
    "        n_iter = n_iter,\n",
    "        cv = cv,\n",
    "        iid = iid,\n",
    "        refit = True,\n",
    "        scoring = scoring\n",
    "    )\n",
    "    return search\n",
    "\n",
    "def organize_scores(inst, round_to=5):\n",
    "    \"\"\"\n",
    "    returns a pd.DataFrame instance where all the scores are organized in a set of tuples that contain\n",
    "    the train and test scores for each split in the k-fold, for each iteration.\n",
    "    \n",
    "    positional argument:\n",
    "        inst: sklearn.model_selection.RandomizedSearchCV - fitted\n",
    "    \n",
    "    keyword argument:\n",
    "        round_to: int - the decimal place to report for the scores\n",
    "    \"\"\"\n",
    "    scores = {key:value for key,value in inst.cv_results_.items() if 'split' in key}\n",
    "    scores1 = {}\n",
    "    for i in range(inst.cv):\n",
    "        scores1[f\"split_{i}\"] = [ (train.round(round_to),test.round(round_to)) for train,test in zip(scores[f\"split{i}_train_score\"], scores[f\"split{i}_test_score\"]) ]\n",
    "    return pd.DataFrame(scores1)\n",
    "\n",
    "def report(inst, validation=True, test=True):\n",
    "    \"\"\"\n",
    "    prints the best set of parameters and the best score from the k-folds cross validation\n",
    "    performed on the training set.\n",
    "    \n",
    "    prints major performance metrics made against the test set (test set is not used during hyperparameter\n",
    "    tuning.)\n",
    "    \n",
    "    positional argument:\n",
    "        inst: sklearn.model_selection.RandomizedSearchCV - fitted\n",
    "    \n",
    "    keyword arguments:\n",
    "        validation: bool - whether to print k-folds results\n",
    "        test: bool - wheter to print test results and retrurn results as dict\n",
    "    \"\"\"\n",
    "    \n",
    "    if validation:\n",
    "        print(\"\\nbest parameters for train-validate k-folds:\")\n",
    "        for key,val in inst.best_params_.items():\n",
    "            print(f\"{key} \\t {val}\")\n",
    "            \n",
    "        print(\"\\n\",organize_scores(inst))\n",
    "        \n",
    "    print(f\"\\nbest test score: \\t {inst.best_score_}\")\n",
    "    \n",
    "    if test:\n",
    "        print(\"\\nPerformance Metrics on Test Set\")\n",
    "        yhat = inst.predict(Xtest)\n",
    "        results = {\n",
    "            'params'           : inst.best_params_,\n",
    "            'yhat'             : yhat,\n",
    "            'accuracy'         : metrics.accuracy_score(ytest, yhat),\n",
    "            'confusion matrix' : metrics.confusion_matrix(ytest, yhat),\n",
    "            'precision'        : metrics.precision_score(ytest, yhat),\n",
    "            'recall'           : metrics.recall_score(ytest, yhat),\n",
    "            'ROC-AUC'          : metrics.roc_auc_score(ytest, yhat),\n",
    "            'F1'               : metrics.f1_score(ytest, yhat)\n",
    "        }\n",
    "\n",
    "        for key,val in results.items(): \n",
    "            if key != 'params': print(f\"\\n{key}: \\n{val}\")\n",
    "\n",
    "        return results\n",
    "\n",
    "def roc_auc_curve(inst, X=Xtest, y=ytest):\n",
    "    \"\"\"\n",
    "    plots the ROC-AUC\n",
    "    \n",
    "    positional argument:\n",
    "        inst: sklearn.model_selection.RandomizedSearchCV - fitted\n",
    "    \n",
    "    keyword arguments:\n",
    "        X: pd.DataFrame - features\n",
    "        y: pd.Series - targets\n",
    "    \"\"\"\n",
    "    \n",
    "    # false positive rate, true positive rate, threshold\n",
    "    fpr, tpr, t = metrics.roc_curve(y, inst.predict_proba(X)[:,1])\n",
    "    \n",
    "    # get the area under the curve\n",
    "    auc = metrics.roc_auc_score(y, inst.predict(X))\n",
    "    \n",
    "    # construct figure\n",
    "    plt.figure(figsize=(10,10))\n",
    "    plt.title(\"Receiver Operator Characteristic-Area Under the Curve\", fontsize=20)\n",
    "    plt.xlabel(\"False Positive Rate\", fontsize=20)\n",
    "    plt.ylabel(\"True Positive Rate\", fontsize=20)\n",
    "    # plt.xlim(0,1)\n",
    "    # plt.ylim(0,1)\n",
    "    plt.plot(fpr, tpr, linewidth=4, label='ROC curve')\n",
    "    \n",
    "    plt.fill_between(\n",
    "        fpr,\n",
    "        0,\n",
    "        y2 = tpr,\n",
    "        color = 'r',\n",
    "        label = f\"AUC: {auc:0.4f}\"\n",
    "    )\n",
    "    \n",
    "    plt.legend(loc=2, fontsize=20)\n",
    "    \n",
    "def plot_confusion_matrix(results, **kwargs):\n",
    "    \"\"\"\n",
    "    plots the confusion matrix\n",
    "    \n",
    "    positional argument:\n",
    "        results: dict - the output of report(*args, test=True)\n",
    "    \"\"\"\n",
    "    \n",
    "    # alias confusion matrix\n",
    "    cm = results['confusion matrix']\n",
    "    \n",
    "    # normalize the columns\n",
    "    cm = cm / cm.sum(axis=1, keepdims=True)\n",
    "    \n",
    "    # construc figure\n",
    "    fig,ax = plt.subplots(figsize=(10,10))\n",
    "    ax.set_title(\"Confusion Matrix, Rows Normalized\", fontsize=20)\n",
    "    sns.heatmap(cm, annot=True, **kwargs)\n",
    "    ax.set_xlabel(\"Predicted\", fontsize=20)\n",
    "    ax.set_ylabel(\"Actual\", fontsize=20)"
   ]
  },
  {
   "cell_type": "markdown",
   "metadata": {},
   "source": [
    "# Random Forest Model"
   ]
  },
  {
   "cell_type": "code",
   "execution_count": 24,
   "metadata": {},
   "outputs": [],
   "source": [
    "# set up random forest\n",
    "rf = ensemble.RandomForestClassifier(\n",
    "    bootstrap = True,\n",
    "    criterion = 'entropy'\n",
    ")"
   ]
  },
  {
   "cell_type": "code",
   "execution_count": 25,
   "metadata": {},
   "outputs": [],
   "source": [
    "# set up the parameter dictionary\n",
    "rf_params = {\n",
    "    'n_estimators'      : (2**np.linspace(0, 10, 11)).astype(np.int32),\n",
    "    'max_features'      : np.linspace(.1, 1, 10),\n",
    "    # 'criterion'         : ['gini', 'entropy'],\n",
    "    'max_depth'         : np.arange(2, 9),\n",
    "    'min_samples_split' : 2**np.arange(4, 11),\n",
    "    # 'bootstrap'         : [True, False],\n",
    "}"
   ]
  },
  {
   "cell_type": "code",
   "execution_count": 26,
   "metadata": {},
   "outputs": [],
   "source": [
    "# create RandomizedSearchCV instance for random forest estimator\n",
    "rf_search = random_search(rf, rf_params, n_iter=20, scoring='roc_auc')"
   ]
  },
  {
   "cell_type": "code",
   "execution_count": 27,
   "metadata": {},
   "outputs": [
    {
     "name": "stdout",
     "output_type": "stream",
     "text": [
      "\n",
      "elapsed time for random search: \t 37.8214 minutes\n"
     ]
    }
   ],
   "source": [
    "# train random forests\n",
    "t0 = datetime.now()\n",
    "rf_search.fit(Xtrain, ytrain)\n",
    "dt = datetime.now() - t0\n",
    "print(f\"elapsed time for random search: \\t {dt.total_seconds()/60:0.4f} minutes\")"
   ]
  },
  {
   "cell_type": "code",
   "execution_count": 28,
   "metadata": {},
   "outputs": [
    {
     "name": "stdout",
     "output_type": "stream",
     "text": [
      "\n",
      "best parameters for train-validate k-folds:\n",
      "n_estimators \t 8\n",
      "min_samples_split \t 1024\n",
      "max_features \t 0.2\n",
      "max_depth \t 8\n",
      "\n",
      "                split_0             split_1             split_2\n",
      "0   (0.77532, 0.78164)  (0.80236, 0.79934)     (0.844, 0.8375)\n",
      "1   (0.84609, 0.84723)  (0.84733, 0.84048)  (0.84821, 0.83707)\n",
      "2   (0.85198, 0.84463)  (0.85309, 0.84273)   (0.8546, 0.84007)\n",
      "3   (0.84758, 0.84367)  (0.84834, 0.83862)  (0.84932, 0.84177)\n",
      "4   (0.86006, 0.84359)  (0.86579, 0.84254)  (0.86277, 0.84041)\n",
      "5   (0.90797, 0.84298)  (0.91398, 0.84191)  (0.90578, 0.84135)\n",
      "6    (0.84563, 0.8464)  (0.85159, 0.83932)  (0.85097, 0.83986)\n",
      "7   (0.88799, 0.84454)   (0.8947, 0.84303)  (0.89193, 0.84139)\n",
      "8     (0.87248, 0.843)  (0.87306, 0.84187)  (0.87288, 0.84027)\n",
      "9   (0.89064, 0.84359)  (0.89673, 0.84391)  (0.88841, 0.84074)\n",
      "10  (0.88631, 0.84416)  (0.89526, 0.84125)  (0.89047, 0.84161)\n",
      "11  (0.89319, 0.84246)  (0.89521, 0.84101)  (0.88564, 0.84335)\n",
      "12  (0.84699, 0.84654)  (0.84792, 0.84023)  (0.84731, 0.84039)\n",
      "13  (0.86674, 0.84423)   (0.8706, 0.84191)  (0.86842, 0.84214)\n",
      "14  (0.85724, 0.84902)  (0.85975, 0.84123)  (0.85746, 0.83882)\n",
      "15   (0.78478, 0.7846)  (0.81876, 0.81494)  (0.82025, 0.81914)\n",
      "16  (0.85035, 0.84444)  (0.85154, 0.83941)  (0.85411, 0.84062)\n",
      "17  (0.84824, 0.84271)  (0.84642, 0.83593)  (0.85187, 0.83685)\n",
      "18  (0.86205, 0.84916)  (0.86208, 0.83662)   (0.85549, 0.8425)\n",
      "19  (0.85083, 0.84396)    (0.85188, 0.844)  (0.85116, 0.83838)\n",
      "\n",
      "best test score: \t 0.843024500841261\n",
      "\n",
      "Performance Metrics on Test Set\n",
      "\n",
      "yhat: \n",
      "[0 0 0 ... 0 0 0]\n",
      "\n",
      "accuracy: \n",
      "0.9571187506203884\n",
      "\n",
      "confusion matrix: \n",
      "[[27400     6]\n",
      " [ 1290  1527]]\n",
      "\n",
      "precision: \n",
      "0.9960861056751468\n",
      "\n",
      "recall: \n",
      "0.5420660276890309\n",
      "\n",
      "ROC-AUC: \n",
      "0.7709235487638761\n",
      "\n",
      "F1: \n",
      "0.7020689655172414\n"
     ]
    }
   ],
   "source": [
    "# print major performance metrics\n",
    "rf_results = report(rf_search)"
   ]
  },
  {
   "cell_type": "code",
   "execution_count": 29,
   "metadata": {},
   "outputs": [
    {
     "data": {
      "image/png": "[encoded data removed]",
      "text/plain": [
       "<Figure size 720x720 with 1 Axes>"
      ]
     },
     "metadata": {
      "needs_background": "light"
     },
     "output_type": "display_data"
    }
   ],
   "source": [
    "# plot the ROC-AUC of the test set\n",
    "roc_auc_curve(rf_search)"
   ]
  },
  {
   "cell_type": "code",
   "execution_count": 30,
   "metadata": {},
   "outputs": [
    {
     "data": {
      "image/png": "[encoded data removed]",
      "text/plain": [
       "<Figure size 720x720 with 2 Axes>"
      ]
     },
     "metadata": {
      "needs_background": "light"
     },
     "output_type": "display_data"
    }
   ],
   "source": [
    "plot_confusion_matrix(\n",
    "    rf_results,\n",
    "    xticklabels = ['No Fraud', 'Fraud'],\n",
    "    yticklabels = ['No Fraud', 'Fraud'],\n",
    "    cmap = 'YlGnBu',\n",
    "    square = True,\n",
    "    annot_kws = {\"size\": 20},\n",
    "    cbar_kws = {'extend': 'both'},\n",
    "    linecolor = 'k',\n",
    "    linewidth = 2\n",
    ")"
   ]
  },
  {
   "cell_type": "code",
   "execution_count": null,
   "metadata": {},
   "outputs": [],
   "source": []
  }
 ],
 "metadata": {
  "kernelspec": {
   "display_name": "Python 3",
   "language": "python",
   "name": "python3"
  },
  "language_info": {
   "codemirror_mode": {
    "name": "ipython",
    "version": 3
   },
   "file_extension": ".py",
   "mimetype": "text/x-python",
   "name": "python",
   "nbconvert_exporter": "python",
   "pygments_lexer": "ipython3",
   "version": "3.6.7"
  }
 },
 "nbformat": 4,
 "nbformat_minor": 2
}

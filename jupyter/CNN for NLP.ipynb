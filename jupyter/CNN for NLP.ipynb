{
 "cells": [
  {
   "cell_type": "markdown",
   "metadata": {},
   "source": [
    "# Import Dependencies"
   ]
  },
  {
   "cell_type": "code",
   "execution_count": 1,
   "metadata": {},
   "outputs": [],
   "source": [
    "import numpy as np\n",
    "import pandas as pd\n",
    "import torch\n",
    "from torch.autograd import Variable\n",
    "import torch.nn as nn\n",
    "import torch.optim as optim\n",
    "import nltk\n",
    "# from nltk.corpus import stopwords \n",
    "from nltk.tokenize import word_tokenize\n",
    "from nltk.stem import WordNetLemmatizer\n",
    "from nltk.tokenize.simple import CharTokenizer\n",
    "from tqdm import tqdm_notebook as tqdm\n",
    "import pdb\n",
    "import pickle\n",
    "import matplotlib.pyplot as plt\n",
    "%matplotlib inline"
   ]
  },
  {
   "cell_type": "markdown",
   "metadata": {},
   "source": [
    "# Pre-Process Data\n",
    "character tensors are set to take gradients"
   ]
  },
  {
   "cell_type": "code",
   "execution_count": 22,
   "metadata": {},
   "outputs": [
    {
     "data": {
      "text/html": [
       "<div>\n",
       "<style scoped>\n",
       "    .dataframe tbody tr th:only-of-type {\n",
       "        vertical-align: middle;\n",
       "    }\n",
       "\n",
       "    .dataframe tbody tr th {\n",
       "        vertical-align: top;\n",
       "    }\n",
       "\n",
       "    .dataframe thead th {\n",
       "        text-align: right;\n",
       "    }\n",
       "</style>\n",
       "<table border=\"1\" class=\"dataframe\">\n",
       "  <thead>\n",
       "    <tr style=\"text-align: right;\">\n",
       "      <th></th>\n",
       "      <th>length</th>\n",
       "      <th>prediction</th>\n",
       "      <th>target</th>\n",
       "      <th>text</th>\n",
       "    </tr>\n",
       "  </thead>\n",
       "  <tbody>\n",
       "    <tr>\n",
       "      <th>0</th>\n",
       "      <td>82</td>\n",
       "      <td>NaN</td>\n",
       "      <td>0</td>\n",
       "      <td>[s, o,  , t, h, e, r, e,  , i, s,  , n, o,  , ...</td>\n",
       "    </tr>\n",
       "    <tr>\n",
       "      <th>1</th>\n",
       "      <td>27</td>\n",
       "      <td>NaN</td>\n",
       "      <td>1</td>\n",
       "      <td>[g, o, o, d,  , c, a, s, e,  ,  , e, x, c, e, ...</td>\n",
       "    </tr>\n",
       "    <tr>\n",
       "      <th>2</th>\n",
       "      <td>22</td>\n",
       "      <td>NaN</td>\n",
       "      <td>1</td>\n",
       "      <td>[g, r, e, a, t,  , f, o, r,  , t, h, e,  , j, ...</td>\n",
       "    </tr>\n",
       "    <tr>\n",
       "      <th>3</th>\n",
       "      <td>79</td>\n",
       "      <td>NaN</td>\n",
       "      <td>0</td>\n",
       "      <td>[t, i, e, d,  , t, o,  , c, h, a, r, g, e, r, ...</td>\n",
       "    </tr>\n",
       "    <tr>\n",
       "      <th>4</th>\n",
       "      <td>17</td>\n",
       "      <td>NaN</td>\n",
       "      <td>1</td>\n",
       "      <td>[t, h, e,  , m, i, c,  , i, s,  , g, r, e, a, ...</td>\n",
       "    </tr>\n",
       "  </tbody>\n",
       "</table>\n",
       "</div>"
      ],
      "text/plain": [
       "   length prediction target                                               text\n",
       "0      82        NaN      0  [s, o,  , t, h, e, r, e,  , i, s,  , n, o,  , ...\n",
       "1      27        NaN      1  [g, o, o, d,  , c, a, s, e,  ,  , e, x, c, e, ...\n",
       "2      22        NaN      1  [g, r, e, a, t,  , f, o, r,  , t, h, e,  , j, ...\n",
       "3      79        NaN      0  [t, i, e, d,  , t, o,  , c, h, a, r, g, e, r, ...\n",
       "4      17        NaN      1  [t, h, e,  , m, i, c,  , i, s,  , g, r, e, a, ..."
      ]
     },
     "execution_count": 22,
     "metadata": {},
     "output_type": "execute_result"
    }
   ],
   "source": [
    "# create empty DataFrame to collect data\n",
    "textDF = pd.DataFrame(columns=['text', 'target', 'prediction', 'length'])\n",
    "\n",
    "# load each file as a DataFrame and append it to the main DataFrame\n",
    "for f in ['amazon_cells_labelled', 'imdb_labelled', 'yelp_labelled']:\n",
    "    file = f\"../data/{f}.txt\"\n",
    "    df = pd.read_csv(file, names=['text', 'target'], sep='\\t')\n",
    "    textDF = textDF.append(df, ignore_index=True, sort=True)\n",
    "\n",
    "# load stop words\n",
    "# stop_words = set(stopwords.words('english'))\n",
    "\n",
    "# instantiate WordNetLemmatizer class\n",
    "lemmatizer = WordNetLemmatizer()\n",
    "\n",
    "# instantiate CharTokenizer\n",
    "char = CharTokenizer()\n",
    "\n",
    "characters = [char for char in 'abcdefghijklmnopqrstuvwxyz 1234567890!@#$%/():\"']\n",
    "\n",
    "def PreProcess(sentence):\n",
    "    \n",
    "    # remove early stop words\n",
    "    sentence = word_tokenize(sentence)\n",
    "    # sentence = [ word for word in sentence if not word in stop_words ]\n",
    "    \n",
    "    # lemmatize all words in remaining sentence\n",
    "    sentence = [ lemmatizer.lemmatize(word) for word in sentence ]\n",
    "    \n",
    "    # format all words to lower case\n",
    "    sentence = [ word.lower() for word in sentence ]\n",
    "    \n",
    "    # convert the list of words back to a single string\n",
    "    sentence = \" \".join(str(x) for x in sentence)\n",
    "    \n",
    "    # tokenize the sentence by character\n",
    "    sentence = char.tokenize(sentence)\n",
    "    \n",
    "    # remove unwanted characters\n",
    "    sentence = [char for char in sentence if char in characters]\n",
    "    \n",
    "    # output pre-prossesed sentence\n",
    "    return sentence\n",
    "\n",
    "# apply PreProcess to textDF\n",
    "textDF.text = textDF.text.apply(lambda x: PreProcess(x))\n",
    "\n",
    "# add length of each review\n",
    "textDF.length = textDF.text.apply(lambda x: len(x))\n",
    "\n",
    "# filter out any obs w/ length == 0\n",
    "textDF = textDF[textDF.length != 0]\n",
    "\n",
    "# reset the index to make up for removing the 0 rows\n",
    "textDF.reset_index(drop=True, inplace=True)\n",
    "\n",
    "# preview textDF\n",
    "textDF.head()"
   ]
  },
  {
   "cell_type": "code",
   "execution_count": 23,
   "metadata": {},
   "outputs": [],
   "source": [
    "# get a list of the unique characters in textDF\n",
    "# characters = list( set( [char for row in textDF.text for char in row] ) )\n",
    "\n",
    "# get a dictionary with the tokens as keys and the one-hot value as the value\n",
    "char_to_token = dict(zip(characters,[num for num in range(len(characters))]))\n",
    "\n",
    "# get a dictionary with the one-hot value as the key and the token as the value\n",
    "token_to_char = {value:key for key,value in char_to_token.items() }\n",
    "\n",
    "# get the total length of features in character-space\n",
    "D = len(char_to_token)\n",
    "\n",
    "# dictionary for one-hot array for a character\n",
    "token_to_encode = {}\n",
    "for i in char_to_token.values():\n",
    "    T = torch.zeros(1,D).type(torch.float32)\n",
    "    T[:,i] = 1\n",
    "    token_to_encode[i] = T\n",
    "    \n",
    "def token2Tensor(idx):\n",
    "    characters = textDF.loc[idx, 'text']\n",
    "    N = textDF.loc[idx,'length']\n",
    "    T = torch.zeros(1,D,N).type(torch.float32)\n",
    "    for i,char in enumerate(characters):\n",
    "        T[0,:,i] = token_to_encode[ char_to_token[ char ] ]\n",
    "    return T\n",
    "\n",
    "def label2Tensor(idx):\n",
    "    y = torch.zeros(1)\n",
    "    y[0] = textDF.loc[idx,'target']\n",
    "    return y.long()\n",
    "\n",
    "def padding(K):\n",
    "    P = (K-1)//2\n",
    "    return P\n",
    "\n",
    "def dialation(P,K):\n",
    "    return (2*P) // (K-1)\n",
    "\n",
    "def onehot(y):\n",
    "    # N,K = y.shape[0], len(set(y))\n",
    "    N,K = y.shape[0], 2\n",
    "    Y = np.zeros((N,K))\n",
    "    for i in range(N):\n",
    "        Y[i,y[i]] = 1\n",
    "    return Y\n",
    "\n",
    "def accuracy(y,yhat):\n",
    "    return np.mean(y == yhat)\n",
    "\n",
    "def confusion_matrix(y,yhat):\n",
    "    Y = onehot(y)\n",
    "    Yhat = onehot(yhat)\n",
    "    return Yhat.T @ Y\n",
    "\n",
    "def load_model(savename='model.pkl'):\n",
    "    return pickle.load( open( savename, \"rb\" ) )"
   ]
  },
  {
   "cell_type": "markdown",
   "metadata": {},
   "source": [
    "# Construct Model"
   ]
  },
  {
   "cell_type": "code",
   "execution_count": 24,
   "metadata": {},
   "outputs": [],
   "source": [
    "class Flatten(nn.Module):\n",
    "    \n",
    "    def __init__(self):\n",
    "        super().__init__()\n",
    "        \n",
    "    def forward(self,x):\n",
    "        return x.view(x.size(0), -1)\n",
    "\n",
    "class NLP_with_CNN(nn.Module):\n",
    "    \n",
    "    def __init__(self, DF, D, F=512, lambda2=0, lr=1e-4, pdrop=.55, momentum=.9, alpha=.99):\n",
    "        super().__init__()\n",
    "        \n",
    "        self.model = nn.Sequential(\n",
    "            \n",
    "            # convolution 1\n",
    "            nn.Conv1d(D, F, kernel_size=7, padding=3),\n",
    "            nn.LeakyReLU(),\n",
    "            \n",
    "            # convolution 2\n",
    "            nn.Conv1d(F, F, kernel_size=5, padding=2),\n",
    "            nn.LeakyReLU(),\n",
    "            \n",
    "            # convolution 3\n",
    "            nn.Conv1d(F, F, kernel_size=3, padding=1),\n",
    "            nn.LeakyReLU(),\n",
    "            \n",
    "            # connector - flatten\n",
    "            nn.AdaptiveAvgPool1d(F),\n",
    "            Flatten(),\n",
    "            \n",
    "            # fully-connected 1\n",
    "            nn.Linear(F**2, F),\n",
    "            nn.LeakyReLU(),\n",
    "            nn.Dropout(p=pdrop),\n",
    "            \n",
    "            # fully-connected 2\n",
    "            nn.Linear(F, 100),\n",
    "            nn.LeakyReLU(),\n",
    "            nn.Dropout(p=pdrop),\n",
    "            \n",
    "            # output layer\n",
    "            nn.Linear(100, 2),\n",
    "        )\n",
    "        \n",
    "        # optimizer\n",
    "        self.optimizer = optim.RMSprop(\n",
    "            self.model.parameters(),\n",
    "            lr = lr,\n",
    "            alpha = alpha,\n",
    "            eps = 1e-08,\n",
    "            weight_decay = lambda2,\n",
    "            momentum = momentum,\n",
    "            centered = False)\n",
    "        \n",
    "        # loss function\n",
    "        self.loss_function = nn.CrossEntropyLoss()\n",
    "        \n",
    "        # save DataFrame and dimentions\n",
    "        self.DF = DF\n",
    "        self.N = DF.shape[0]\n",
    "        self.D = D\n",
    "        \n",
    "        # number of samples in each set\n",
    "        N_train = int(self.N * .6)\n",
    "        N_val = int(self.N * .2)\n",
    "        N_test = self.N - N_train - N_val\n",
    "        \n",
    "        # indices for each set\n",
    "        indices = np.random.RandomState(seed=0).permutation(self.N)\n",
    "        self.indices = {\n",
    "            'total'    : indices,\n",
    "            'train'    : indices[ : N_train ],\n",
    "            'validate' : indices[ N_train : N_train + N_val ],\n",
    "            'test'     : indices[ N_train + N_val : ]\n",
    "        }\n",
    "        \n",
    "    def forward(self,x):\n",
    "        return self.model(x)\n",
    "    \n",
    "    def fit(self, epochs=1, batch_size=None, save=True):\n",
    "        \n",
    "        epochs = int(epochs)\n",
    "        N = self.indices['train'].shape[0]\n",
    "        if batch_size == None: batch_size = N\n",
    "              \n",
    "        for epoch in tqdm(range(epochs), leave=False):\n",
    "        \n",
    "            # choose index at from training set at random\n",
    "            indices = self.indices['train'].copy()[:batch_size]\n",
    "            np.random.shuffle(indices)\n",
    "            \n",
    "            # container to hold loss values\n",
    "            LOSS = np.zeros(batch_size)\n",
    "            \n",
    "            for i,idx in enumerate(tqdm(indices, leave=False)):\n",
    "                \n",
    "                T = token2Tensor(idx)\n",
    "                y = label2Tensor(idx)\n",
    "                H = self.model(T)\n",
    "                loss = self.loss_function(H,y)\n",
    "                \n",
    "                self.optimizer.zero_grad()\n",
    "                loss.backward()\n",
    "                self.optimizer.step()\n",
    "                \n",
    "                LOSS[i] = loss.item()\n",
    "\n",
    "            # update LOSS\n",
    "            if not hasattr(self, 'LOSS'):\n",
    "                self.LOSS = LOSS.reshape([1,N])\n",
    "            else:\n",
    "                self.LOSS = np.vstack( (self.LOSS, LOSS) )\n",
    "                \n",
    "            # save model\n",
    "            if save: self.save_model()\n",
    "        \n",
    "    def predict(self, key='total'):\n",
    "        \n",
    "        # go through each index in the desired dataset\n",
    "        for idx in tqdm(self.indices[key]):\n",
    "            \n",
    "            T = token2Tensor(idx) # grab the tensor\n",
    "            H = self.forward(T) # calc logits\n",
    "            eH = torch.exp(H)\n",
    "            phat = torch.log( eH / eH.sum() )\n",
    "            yhat = phat.argmax().item() # find predictions\n",
    "            self.DF.loc[idx,'prediction'] = yhat # update review prediction in DF\n",
    "            \n",
    "    def evaluate_performance(self, keys=['train', 'validate', 'test']):\n",
    "        \n",
    "        # empty container to hold accuracies\n",
    "        self.accuracy = {}\n",
    "        \n",
    "        # go through each dataset\n",
    "        for key in keys:\n",
    "            \n",
    "            # get the filtered dataset\n",
    "            df = self.select_dataset(key)\n",
    "            \n",
    "            # grab the targets and predictions\n",
    "            y = df.target.to_numpy(dtype=np.int32)\n",
    "            yhat = df.prediction.to_numpy(dtype=np.int32)\n",
    "            \n",
    "            # add to accuracy\n",
    "            self.accuracy[key] = accuracy(y,yhat)\n",
    "            \n",
    "            # calculate Confusion Matrix for the test set\n",
    "            if key == 'test':\n",
    "                self.confusion_matrix = confusion_matrix(y,yhat) \n",
    "    \n",
    "    def plot_loss(self):\n",
    "        \n",
    "        fig,ax = plt.subplots(nrows=2, figsize=(10,10))\n",
    "        \n",
    "        ax[0].set_title(\"Loss for All Training Sessions\")\n",
    "        ax[0].plot( self.LOSS.flatten() )\n",
    "        ax[0].set_ylabel(\"Loss\")\n",
    "        N1,N2 = self.LOSS.shape\n",
    "        for i in range(N1+1):\n",
    "            ax[0].vlines(i*N2,self.LOSS.min(),self.LOSS.max(), color='r', linewidth=1, linestyles='dashed')\n",
    "        \n",
    "        ax[1].set_title(\"Loss for Latest Training Session\")\n",
    "        ax[1].plot( self.LOSS[-1, :] )\n",
    "        ax[1].set_ylabel(\"Loss\")\n",
    "        \n",
    "        fig.text(0.5, 0.04, 'Iterations', ha='center')\n",
    "                \n",
    "    def save_model(self, savename='model.pkl'):\n",
    "        pickle.dump(self, open(savename, \"wb\"))\n",
    "        \n",
    "    def select_dataset(self, key):\n",
    "        return self.DF[self.DF.index.isin(self.indices[key])]"
   ]
  },
  {
   "cell_type": "code",
   "execution_count": 32,
   "metadata": {},
   "outputs": [],
   "source": [
    "# instantiate model\n",
    "model = NLP_with_CNN(textDF.copy(), D, F=256, lambda2=0, pdrop=.6, momentum=.9, alpha=.99, lr=1e-4)"
   ]
  },
  {
   "cell_type": "markdown",
   "metadata": {},
   "source": [
    "# Train Model"
   ]
  },
  {
   "cell_type": "code",
   "execution_count": 49,
   "metadata": {},
   "outputs": [
    {
     "data": {
      "application/vnd.jupyter.widget-view+json": {
       "model_id": "",
       "version_major": 2,
       "version_minor": 0
      },
      "text/plain": [
       "HBox(children=(IntProgress(value=0, max=5), HTML(value='')))"
      ]
     },
     "metadata": {},
     "output_type": "display_data"
    },
    {
     "data": {
      "application/vnd.jupyter.widget-view+json": {
       "model_id": "",
       "version_major": 2,
       "version_minor": 0
      },
      "text/plain": [
       "HBox(children=(IntProgress(value=0, max=1648), HTML(value='')))"
      ]
     },
     "metadata": {},
     "output_type": "display_data"
    },
    {
     "data": {
      "application/vnd.jupyter.widget-view+json": {
       "model_id": "",
       "version_major": 2,
       "version_minor": 0
      },
      "text/plain": [
       "HBox(children=(IntProgress(value=0, max=1648), HTML(value='')))"
      ]
     },
     "metadata": {},
     "output_type": "display_data"
    },
    {
     "data": {
      "application/vnd.jupyter.widget-view+json": {
       "model_id": "",
       "version_major": 2,
       "version_minor": 0
      },
      "text/plain": [
       "HBox(children=(IntProgress(value=0, max=1648), HTML(value='')))"
      ]
     },
     "metadata": {},
     "output_type": "display_data"
    },
    {
     "data": {
      "application/vnd.jupyter.widget-view+json": {
       "model_id": "",
       "version_major": 2,
       "version_minor": 0
      },
      "text/plain": [
       "HBox(children=(IntProgress(value=0, max=1648), HTML(value='')))"
      ]
     },
     "metadata": {},
     "output_type": "display_data"
    },
    {
     "data": {
      "application/vnd.jupyter.widget-view+json": {
       "model_id": "",
       "version_major": 2,
       "version_minor": 0
      },
      "text/plain": [
       "HBox(children=(IntProgress(value=0, max=1648), HTML(value='')))"
      ]
     },
     "metadata": {},
     "output_type": "display_data"
    },
    {
     "data": {
      "image/png": "[encoded data removed]",
      "text/plain": [
       "<Figure size 720x720 with 2 Axes>"
      ]
     },
     "metadata": {
      "needs_background": "light"
     },
     "output_type": "display_data"
    }
   ],
   "source": [
    "model.fit(epochs=5)\n",
    "model.plot_loss()"
   ]
  },
  {
   "cell_type": "code",
   "execution_count": 50,
   "metadata": {},
   "outputs": [
    {
     "data": {
      "application/vnd.jupyter.widget-view+json": {
       "model_id": "33dab13a517c4749a38ce395a87d42de",
       "version_major": 2,
       "version_minor": 0
      },
      "text/plain": [
       "HBox(children=(IntProgress(value=0, max=2748), HTML(value='')))"
      ]
     },
     "metadata": {},
     "output_type": "display_data"
    }
   ],
   "source": [
    "model.predict()\n",
    "model.evaluate_performance()"
   ]
  },
  {
   "cell_type": "code",
   "execution_count": 47,
   "metadata": {},
   "outputs": [
    {
     "data": {
      "text/plain": [
       "{'train': 0.9678398058252428,\n",
       " 'validate': 0.7449908925318761,\n",
       " 'test': 0.7531760435571688}"
      ]
     },
     "execution_count": 47,
     "metadata": {},
     "output_type": "execute_result"
    }
   ],
   "source": [
    "model.accuracy"
   ]
  },
  {
   "cell_type": "code",
   "execution_count": 48,
   "metadata": {},
   "outputs": [
    {
     "data": {
      "text/plain": [
       "array([[224., 108.],\n",
       "       [ 28., 191.]])"
      ]
     },
     "execution_count": 48,
     "metadata": {},
     "output_type": "execute_result"
    }
   ],
   "source": [
    "model.confusion_matrix"
   ]
  },
  {
   "cell_type": "code",
   "execution_count": null,
   "metadata": {},
   "outputs": [],
   "source": [
    "df = model.select_dataset('train');df.head()"
   ]
  },
  {
   "cell_type": "code",
   "execution_count": null,
   "metadata": {},
   "outputs": [],
   "source": [
    "df[df.prediction==0].shape[0]"
   ]
  },
  {
   "cell_type": "code",
   "execution_count": null,
   "metadata": {},
   "outputs": [],
   "source": [
    "df[df.prediction==1].shape[0]"
   ]
  },
  {
   "cell_type": "code",
   "execution_count": null,
   "metadata": {},
   "outputs": [],
   "source": []
  }
 ],
 "metadata": {
  "kernelspec": {
   "display_name": "Python 3",
   "language": "python",
   "name": "python3"
  },
  "language_info": {
   "codemirror_mode": {
    "name": "ipython",
    "version": 3
   },
   "file_extension": ".py",
   "mimetype": "text/x-python",
   "name": "python",
   "nbconvert_exporter": "python",
   "pygments_lexer": "ipython3",
   "version": "3.6.7"
  }
 },
 "nbformat": 4,
 "nbformat_minor": 2
}

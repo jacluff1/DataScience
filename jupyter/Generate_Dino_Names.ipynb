{
 "cells": [
  {
   "cell_type": "code",
   "execution_count": null,
   "metadata": {
    "colab": {
     "base_uri": "https://localhost:8080/",
     "height": 107,
     "resources": {
      "http://localhost:8080/nbextensions/google.colab/files.js": {
       "data": "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",
       "headers": [
        [
         "content-type",
         "application/javascript"
        ]
       ],
       "ok": true,
       "status": 200,
       "status_text": ""
      }
     }
    },
    "colab_type": "code",
    "id": "vycMkHX0m0N_",
    "outputId": "a51dc106-b0bd-42eb-94e7-d3797d2008b0"
   },
   "outputs": [],
   "source": [
    "import pandas as pd\n",
    "import numpy as np\n",
    "# from google.colab import files\n",
    "# files.upload()"
   ]
  },
  {
   "cell_type": "code",
   "execution_count": null,
   "metadata": {
    "colab": {
     "base_uri": "https://localhost:8080/",
     "height": 195
    },
    "colab_type": "code",
    "id": "TsjYGk6qm0OK",
    "outputId": "fcd815fe-5c35-467d-bb5f-33fe3cc12452"
   },
   "outputs": [],
   "source": [
    "Data = pd.read_csv('Dinos.txt',names=['Name'])\n",
    "Data.head()\n"
   ]
  },
  {
   "cell_type": "code",
   "execution_count": null,
   "metadata": {
    "colab": {},
    "colab_type": "code",
    "id": "f-qR6lrWm0Ob"
   },
   "outputs": [],
   "source": [
    "Names = Data.Name"
   ]
  },
  {
   "cell_type": "code",
   "execution_count": null,
   "metadata": {
    "colab": {
     "base_uri": "https://localhost:8080/",
     "height": 118
    },
    "colab_type": "code",
    "id": "oNs7b0q1m0Oi",
    "outputId": "234a16e6-029f-4a22-9bd2-bfb58e813cd5"
   },
   "outputs": [],
   "source": [
    "NamesSep = Names.map(lambda x: list(x))\n",
    "NamesSep.head()"
   ]
  },
  {
   "cell_type": "code",
   "execution_count": null,
   "metadata": {
    "colab": {
     "base_uri": "https://localhost:8080/",
     "height": 118
    },
    "colab_type": "code",
    "id": "LNaENWd0m0Or",
    "outputId": "2dd5010a-59f0-4a18-8b04-630e10fbf2f6"
   },
   "outputs": [],
   "source": [
    "NamesSepWithStartStop = NamesSep.map(lambda x: x+['#'])\n",
    "NamesSepWithStartStop.head()"
   ]
  },
  {
   "cell_type": "code",
   "execution_count": null,
   "metadata": {
    "colab": {},
    "colab_type": "code",
    "id": "B_2Njwa-m0O1"
   },
   "outputs": [],
   "source": [
    "AllNames = pd.concat([NamesSepWithStartStop,NamesSepWithStartStop.map(lambda x: len(x))],axis=1)\n",
    "AllNames.columns = ['Name','Length']"
   ]
  },
  {
   "cell_type": "code",
   "execution_count": null,
   "metadata": {
    "colab": {
     "base_uri": "https://localhost:8080/",
     "height": 284
    },
    "colab_type": "code",
    "id": "Y5d0mO2dm0O8",
    "outputId": "0ae53fa2-a4f4-4d80-a311-79e066876bea"
   },
   "outputs": [],
   "source": [
    "AllNames.describe()"
   ]
  },
  {
   "cell_type": "code",
   "execution_count": null,
   "metadata": {
    "colab": {},
    "colab_type": "code",
    "id": "y7jnr6Mmm0PJ"
   },
   "outputs": [],
   "source": [
    "TempNames = list(AllNames.Name)"
   ]
  },
  {
   "cell_type": "code",
   "execution_count": null,
   "metadata": {
    "colab": {},
    "colab_type": "code",
    "id": "9k6V1imYm0Pm"
   },
   "outputs": [],
   "source": [
    "allChars = [char for name in TempNames for char in name]"
   ]
  },
  {
   "cell_type": "code",
   "execution_count": null,
   "metadata": {
    "colab": {
     "base_uri": "https://localhost:8080/",
     "height": 470
    },
    "colab_type": "code",
    "id": "L-CzGsZam0Pw",
    "outputId": "0200e2ed-9131-43a8-c3ff-d0fcf46586df"
   },
   "outputs": [],
   "source": [
    "chars = list(set(allChars))\n",
    "chars"
   ]
  },
  {
   "cell_type": "code",
   "execution_count": null,
   "metadata": {
    "colab": {
     "base_uri": "https://localhost:8080/",
     "height": 34
    },
    "colab_type": "code",
    "id": "WNQcKGg6m0P4",
    "outputId": "6a153170-44f4-4019-c99a-cf63aeb4b6c4"
   },
   "outputs": [],
   "source": [
    "len(chars)"
   ]
  },
  {
   "cell_type": "code",
   "execution_count": null,
   "metadata": {
    "colab": {
     "base_uri": "https://localhost:8080/",
     "height": 470
    },
    "colab_type": "code",
    "id": "ZxVXPBQQm0P_",
    "outputId": "0d424ac5-f9c6-4ea2-cb53-9e0bda76d5c5"
   },
   "outputs": [],
   "source": [
    "char_to_token = dict(zip(chars,[num for num in range(len(chars))]))\n",
    "char_to_token"
   ]
  },
  {
   "cell_type": "code",
   "execution_count": null,
   "metadata": {
    "colab": {
     "base_uri": "https://localhost:8080/",
     "height": 941
    },
    "colab_type": "code",
    "id": "HO6K5wfbm0QF",
    "outputId": "d3d32bbd-41f1-4201-a3e5-74be86d6cdf6"
   },
   "outputs": [],
   "source": [
    "max_token = max(list(char_to_token.values()))\n",
    "print(max_token)\n",
    "token_to_encode = dict()\n",
    "for i in char_to_token.values():\n",
    "    temp = np.zeros((1,max_token+1))\n",
    "    temp[:,i] = 1\n",
    "    token_to_encode[i] = temp\n",
    "\n",
    "token_to_encode"
   ]
  },
  {
   "cell_type": "code",
   "execution_count": null,
   "metadata": {
    "colab": {
     "base_uri": "https://localhost:8080/",
     "height": 34
    },
    "colab_type": "code",
    "id": "6Hb3s6lpm0QN",
    "outputId": "4f15ec8a-464c-4e66-cb37-b13fec743bf6"
   },
   "outputs": [],
   "source": []
  },
  {
   "cell_type": "code",
   "execution_count": null,
   "metadata": {
    "colab": {
     "base_uri": "https://localhost:8080/",
     "height": 34
    },
    "colab_type": "code",
    "id": "BWvFSX3Pm0QW",
    "outputId": "e431b26b-3b6c-43d5-eb06-4dce4e4c9b01"
   },
   "outputs": [],
   "source": [
    "def charTokenizer(characters):\n",
    "    tokens = list()\n",
    "    for i in range(len(characters)):\n",
    "        tokens.append(char_to_token[characters[i]])\n",
    "    return tokens\n",
    "\n",
    "TestTokens = charTokenizer(TestName)\n",
    "TestTokens"
   ]
  },
  {
   "cell_type": "code",
   "execution_count": null,
   "metadata": {
    "colab": {},
    "colab_type": "code",
    "id": "OGBZT2AFm0Qe"
   },
   "outputs": [],
   "source": [
    "def tokenEncoder(tokens):\n",
    "    encoded = np.empty((len(tokens),max_token+1))\n",
    "    for i in range(len(tokens)):\n",
    "        encoded[i,:] = token_to_encode[tokens[i]]\n",
    "    return encoded"
   ]
  },
  {
   "cell_type": "code",
   "execution_count": null,
   "metadata": {
    "colab": {
     "base_uri": "https://localhost:8080/",
     "height": 487
    },
    "colab_type": "code",
    "id": "1U6syigMm0Qk",
    "outputId": "43ad3adb-f06c-49c0-be86-f614428dd5b9"
   },
   "outputs": [],
   "source": [
    "TestEncodings = tokenEncoder(TestTokens)\n",
    "TestEncodings"
   ]
  },
  {
   "cell_type": "code",
   "execution_count": null,
   "metadata": {
    "colab": {
     "base_uri": "https://localhost:8080/",
     "height": 470
    },
    "colab_type": "code",
    "id": "6BkDVDFfm0Qs",
    "outputId": "1ae12d6b-3a33-43ec-8f65-805649a7b14d"
   },
   "outputs": [],
   "source": [
    "token_to_char = {value: key for key, value in char_to_token.items() }\n",
    "token_to_char"
   ]
  },
  {
   "cell_type": "code",
   "execution_count": null,
   "metadata": {
    "colab": {},
    "colab_type": "code",
    "id": "YNOMO8C1m0Q1"
   },
   "outputs": [],
   "source": [
    "def encodingCharacterizer(encoding):\n",
    "    characters = list()\n",
    "    for i in range(len(encoding)):\n",
    "        characters.append(token_to_char[encoding[i].argmax()])\n",
    "    return characters"
   ]
  },
  {
   "cell_type": "code",
   "execution_count": null,
   "metadata": {
    "colab": {
     "base_uri": "https://localhost:8080/",
     "height": 34
    },
    "colab_type": "code",
    "id": "6kwOfKTpm0Q9",
    "outputId": "496840ff-a436-4679-c70b-8feaa78682f9"
   },
   "outputs": [],
   "source": [
    "encodingCharacterizer(TestEncodings)"
   ]
  },
  {
   "cell_type": "code",
   "execution_count": null,
   "metadata": {
    "colab": {},
    "colab_type": "code",
    "id": "mdAjyByam0RE"
   },
   "outputs": [],
   "source": [
    "import torch\n",
    "from torch.autograd import Variable"
   ]
  },
  {
   "cell_type": "code",
   "execution_count": null,
   "metadata": {
    "colab": {},
    "colab_type": "code",
    "id": "LQopxkLEm0RJ"
   },
   "outputs": [],
   "source": [
    "dtype = torch.FloatTensor\n",
    "input_size, hidden_size, output_size = max_token+1+max_token+1, max_token+1, max_token+1"
   ]
  },
  {
   "cell_type": "code",
   "execution_count": null,
   "metadata": {
    "colab": {},
    "colab_type": "code",
    "id": "APZ5mnejm0RO"
   },
   "outputs": [],
   "source": [
    "w1 = torch.FloatTensor(np.random.randn(input_size, hidden_size)).type(dtype)\n",
    "w1 =  Variable(w1, requires_grad=True)\n",
    "w2 = torch.FloatTensor(np.random.randn(hidden_size, output_size)).type(dtype)\n",
    "w2 = Variable(w2, requires_grad=True)\n",
    "b1 = torch.FloatTensor(np.random.randn(1, hidden_size)).type(dtype)\n",
    "b1 =  Variable(b1, requires_grad=True)\n",
    "b2 = torch.FloatTensor(np.random.randn(1, output_size)).type(dtype)\n",
    "b2 = Variable(b2, requires_grad=True)\n",
    "w3 = torch.FloatTensor(np.random.randn(output_size, output_size)).type(dtype)\n",
    "w3 = Variable(w3, requires_grad=True)\n",
    "b3 = torch.FloatTensor(np.random.randn(1, output_size)).type(dtype)\n",
    "b3 = Variable(b3, requires_grad=True)\n"
   ]
  },
  {
   "cell_type": "code",
   "execution_count": null,
   "metadata": {
    "colab": {
     "base_uri": "https://localhost:8080/",
     "height": 34
    },
    "colab_type": "code",
    "id": "VD5WIcTvm0RS",
    "outputId": "2ec03379-1c26-4b06-eada-8fcc98475360"
   },
   "outputs": [],
   "source": [
    "TestTensor = torch.FloatTensor(tokenEncoder(charTokenizer(AllNames.Name[2])))\n",
    "TestTensor.size()"
   ]
  },
  {
   "cell_type": "code",
   "execution_count": null,
   "metadata": {
    "colab": {},
    "colab_type": "code",
    "id": "RqZFECo-m0RY"
   },
   "outputs": [],
   "source": [
    "def cycle(hidden,inputs):\n",
    "    h_t = torch.tanh(torch.mm(torch.cat([inputs,hidden],dim=1),w1)+b1)\n",
    "    out = torch.mm(torch.tanh(torch.mm(h_t,w2)+b2),w3)+b3\n",
    "    return h_t, out\n",
    "    \n",
    "def forward(X,init=None):\n",
    "    lenSeq = X.size(0)\n",
    "    hiddens = []\n",
    "    outs = []\n",
    "    if init==None:\n",
    "        h_t=torch.zeros(1,X.size(1))\n",
    "    else:\n",
    "        h_t = init\n",
    "    for i in range(lenSeq):\n",
    "        h_t,out = cycle(h_t,X[[i]])\n",
    "        hiddens.append(h_t)\n",
    "        outs.append(out)\n",
    "    hiddenSeq = torch.cat(hiddens)\n",
    "    outSeq = torch.cat(outs)\n",
    "    return hiddenSeq,outSeq"
   ]
  },
  {
   "cell_type": "code",
   "execution_count": null,
   "metadata": {
    "colab": {},
    "colab_type": "code",
    "id": "vq-mTAWKm0Re"
   },
   "outputs": [],
   "source": [
    "optimizer = torch.optim.Adam([w1,w2,w3,b1,b2,b3], lr = 0.001)\n",
    "\n",
    "def backward(OutputSequence,TrueLabels):\n",
    "    _, targets = TrueLabels.max(dim=1)\n",
    "    #print(targets)\n",
    "    loss = torch.nn.CrossEntropyLoss()(OutputSequence,targets)\n",
    "    loss.backward()\n",
    "    optimizer.step()\n",
    "    optimizer.zero_grad()\n",
    "    #print(loss.data)\n",
    "    return loss"
   ]
  },
  {
   "cell_type": "code",
   "execution_count": null,
   "metadata": {
    "colab": {
     "base_uri": "https://localhost:8080/",
     "height": 34
    },
    "colab_type": "code",
    "id": "EEKiowwFm0Rl",
    "outputId": "56292cfb-63db-4480-b926-4176a5505f99"
   },
   "outputs": [],
   "source": [
    "hid,out = forward(TestTensor[0:-1])\n",
    "backward(out,TestTensor[1:])"
   ]
  },
  {
   "cell_type": "code",
   "execution_count": null,
   "metadata": {
    "colab": {},
    "colab_type": "code",
    "id": "-BHn_Gicm0Rs"
   },
   "outputs": [],
   "source": [
    "Names = AllNames.Name"
   ]
  },
  {
   "cell_type": "code",
   "execution_count": null,
   "metadata": {
    "colab": {},
    "colab_type": "code",
    "id": "dRCTsDlJV9vK"
   },
   "outputs": [],
   "source": [
    "EncodedNames = Names.apply(lambda x: tokenEncoder(charTokenizer(x)))"
   ]
  },
  {
   "cell_type": "code",
   "execution_count": null,
   "metadata": {
    "colab": {
     "base_uri": "https://localhost:8080/",
     "height": 34
    },
    "colab_type": "code",
    "id": "pLreemaEWzKg",
    "outputId": "c2179f72-e554-4b40-fe10-c29f55bf38f3"
   },
   "outputs": [],
   "source": [
    "np.array(EncodedNames.sample().tolist()[0]).shape"
   ]
  },
  {
   "cell_type": "code",
   "execution_count": null,
   "metadata": {
    "colab": {},
    "colab_type": "code",
    "id": "_dfTtM0Qm0R3"
   },
   "outputs": [],
   "source": [
    "import matplotlib.pyplot as plt"
   ]
  },
  {
   "cell_type": "code",
   "execution_count": null,
   "metadata": {
    "colab": {
     "base_uri": "https://localhost:8080/",
     "height": 1966
    },
    "colab_type": "code",
    "id": "MIO-I-7Nm0SB",
    "outputId": "ffc9cd6d-6a96-4a0b-8147-3daaa58e6e00"
   },
   "outputs": [],
   "source": [
    "optimizer = torch.optim.Adam([w1,w2,w3,b1,b2,b3], lr = 0.001)\n",
    "epochs = 200000\n",
    "losses = []\n",
    "for i in range(epochs):\n",
    "    Sample = np.array(EncodedNames.sample().tolist()[0])\n",
    "    X = torch.FloatTensor(Sample)\n",
    "    hid,out = forward(X[0:-1])\n",
    "    lossVal = backward(out,X[1:])\n",
    "    losses.append(lossVal)\n",
    "    if (i+1)%(epochs/100)==0:\n",
    "        print('Epochs: {}/{}'.format(i+1,epochs))\n",
    "    \n",
    "plt.plot(losses)"
   ]
  },
  {
   "cell_type": "code",
   "execution_count": null,
   "metadata": {
    "colab": {},
    "colab_type": "code",
    "id": "YMbH8Fcxm0SG"
   },
   "outputs": [],
   "source": [
    "def generate(startLetter=None,sillyFactor=0.25):\n",
    "    # if no start letter provided, pick one at random\n",
    "    if startLetter==None:\n",
    "        startLetter=token_to_char[round(np.random.rand()*max_token)]\n",
    "    if startLetter=='#':\n",
    "        return None\n",
    "    generated = [startLetter]\n",
    "    start = torch.FloatTensor(tokenEncoder(charTokenizer([startLetter])))\n",
    "    h_t = torch.randn(1,hidden_size)*sillyFactor\n",
    "    h_t,out = cycle(h_t,start)\n",
    "    out = torch.softmax(out,dim=1)\n",
    "    ## from one hot encoded output, back to the character\n",
    "    _, pos = out.max(dim=1)\n",
    "    out = torch.zeros(1,hidden_size)\n",
    "    out[:,pos]=1\n",
    "    # if the generated character is the stop token, return None\n",
    "    if token_to_char[int(pos)] == '#':\n",
    "        return None\n",
    "    generated.append(token_to_char[int(pos)])\n",
    "    # do a for loop and get an output until a stop token or \n",
    "    # max number of iterations\n",
    "    for i in range(24):\n",
    "        h_t,out = cycle(h_t,out)\n",
    "        out = torch.softmax(out,dim=1)\n",
    "        _, pos = out.max(dim=1)\n",
    "        out = torch.zeros(1,hidden_size)\n",
    "        out[:,pos]=1\n",
    "        if token_to_char[int(pos)] == '#':\n",
    "            break\n",
    "        generated.append(token_to_char[int(pos)])\n",
    "    #print(''.join(generated))\n",
    "    return ''.join(generated)"
   ]
  },
  {
   "cell_type": "code",
   "execution_count": null,
   "metadata": {
    "colab": {},
    "colab_type": "code",
    "id": "qJcOEgfFm0SL"
   },
   "outputs": [],
   "source": [
    "nonSense = [generate(startLetter=None,sillyFactor=np.random.rand()) for i in range(100)]"
   ]
  },
  {
   "cell_type": "code",
   "execution_count": null,
   "metadata": {
    "colab": {
     "base_uri": "https://localhost:8080/",
     "height": 1697
    },
    "colab_type": "code",
    "id": "RpdYOyZmm0SR",
    "outputId": "57da3f07-58c0-4165-d6aa-3149d63ee0b9"
   },
   "outputs": [],
   "source": [
    "nonSense"
   ]
  },
  {
   "cell_type": "code",
   "execution_count": null,
   "metadata": {
    "colab": {
     "base_uri": "https://localhost:8080/",
     "height": 1697
    },
    "colab_type": "code",
    "id": "ICFte4InDlYp",
    "outputId": "b34a3061-cc0e-477b-ca37-bf624deecc35"
   },
   "outputs": [],
   "source": [
    "[generate(startLetter='a',sillyFactor=0.1) for i in range(100)]"
   ]
  },
  {
   "cell_type": "code",
   "execution_count": null,
   "metadata": {
    "colab": {},
    "colab_type": "code",
    "id": "PDoJBWqgFc89"
   },
   "outputs": [],
   "source": []
  }
 ],
 "metadata": {
  "colab": {
   "name": "Generate Dino Names.ipynb",
   "provenance": [],
   "version": "0.3.2"
  },
  "kernelspec": {
   "display_name": "Python 3",
   "language": "python",
   "name": "python3"
  },
  "language_info": {
   "codemirror_mode": {
    "name": "ipython",
    "version": 3
   },
   "file_extension": ".py",
   "mimetype": "text/x-python",
   "name": "python",
   "nbconvert_exporter": "python",
   "pygments_lexer": "ipython3",
   "version": "3.6.7"
  }
 },
 "nbformat": 4,
 "nbformat_minor": 1
}

{
 "cells": [
  {
   "cell_type": "code",
   "execution_count": 1,
   "metadata": {},
   "outputs": [],
   "source": [
    "# import dependencies\n",
    "import numpy as np\n",
    "from scipy import stats\n",
    "import matplotlib.pyplot as plt\n",
    "from datetime import datetime\n",
    "%matplotlib inline"
   ]
  },
  {
   "cell_type": "code",
   "execution_count": 260,
   "metadata": {},
   "outputs": [],
   "source": [
    "# simulate data\n",
    "K,D = 3,2\n",
    "N = int(K*1e3)\n",
    "\n",
    "X0 = np.random.randn(N//K,2) + np.array([2,2])\n",
    "X1 = np.random.randn(N//K,2) + np.array([2,-2])\n",
    "X2 = np.random.randn(N//K,2) + np.array([-2,0])\n",
    "X = np.vstack(( X0, X1, X2 ))\n",
    "\n",
    "y = np.array([0]*(N//K) + [1]*(N//K) + [2]*(N//K) )"
   ]
  },
  {
   "cell_type": "code",
   "execution_count": 43,
   "metadata": {},
   "outputs": [],
   "source": [
    "# KNN class definition\n",
    "class KNN:\n",
    "    \n",
    "    def __init__(self, X, y):\n",
    "        self.X = X\n",
    "        self.y = y\n",
    "    \n",
    "    def predict(self, X, K, **kwargs):\n",
    "        \n",
    "        # decide on classification or regression\n",
    "        classification = kwargs['classification'] if 'classification' in kwargs else True\n",
    "\n",
    "        distance = self.__select_distance_metric(**kwargs)\n",
    "            \n",
    "        N,D = X.shape\n",
    "        yhat = np.zeros(N)\n",
    "        \n",
    "        if classification:\n",
    "            X = X.reshape([N,1,D])\n",
    "            DIST = distance(X)\n",
    "            idx = DIST[:,1].argsort()\n",
    "            DIST = DIST[ : , idx ]\n",
    "            GAMMA = self.__gamma(DIST)\n",
    "            yhat = stats.mode(self.y[idx])[0]\n",
    "#             yhat = np.bincount(self.y[idx], weights=GAMMA).argmax(axis=1)\n",
    "        \n",
    "        return yhat\n",
    "            \n",
    "            \n",
    "            \n",
    "            \n",
    "        \n",
    "#         if classification:\n",
    "#             for i in range(N):\n",
    "#                 dist = np.sum( (self.X - X[i])**2, axis=1 )\n",
    "#                 idx = dist.argsort()[:K]\n",
    "#                 d = dist[idx]\n",
    "#                 gamma = self.__gamma(d)\n",
    "#                 yhat[i] = np.bincount(self.y[idx], weights=gamma).argmax()\n",
    "#             return yhat\n",
    "#         else:\n",
    "#             for i in range(N):\n",
    "#                 dist = np.sum( (self.X - X[i])**2, axis=1 )\n",
    "#                 idx = dist.argsort()[:K]\n",
    "#                 d = dist[idx]\n",
    "#                 gamma = self.__gamma(d)\n",
    "#                 yhat[i] = self.y[idx].dot(gamma)\n",
    "#             return yhat\n",
    "    \n",
    "    #==================#\n",
    "    # distance metrics #\n",
    "    #==================#\n",
    "    \n",
    "    def __distance_Euclidean(self, X):\n",
    "        return np.sqrt( np.sum( (self.X - X)**2, axis=2) )\n",
    "    \n",
    "    def __distance_Euclidean_squared(self, X):\n",
    "        return np.sum( (self.X - X)**2, axis=2)\n",
    "    \n",
    "    def __distance_Manhattan(self, X):\n",
    "        return np.sum( np.abs(self.X - X), axis=2 )\n",
    "    \n",
    "    def __select_distance_metric(self, **kwargs):\n",
    "        \n",
    "        metrics = {\n",
    "            'euclidean': self.__distance_Euclidean,\n",
    "            'euclidean_squared': self.__distance_Euclidean_squared,\n",
    "            'manhattan': self.__distance_Manhattan\n",
    "        }\n",
    "        \n",
    "        distance = kwargs['metric'] if 'metric' in kwargs else 'euclidean_squared'\n",
    "        distance = distance.lower()\n",
    "        distance = metrics[distance]\n",
    "        \n",
    "        return distance\n",
    "    \n",
    "    #==================#\n",
    "    # weight functions #\n",
    "    #==================#\n",
    "    \n",
    "    def __gamma(self, d, **kwargs):\n",
    "        ed = -np.exp(d)\n",
    "        return ed / np.sum(ed, axis=1, keepdims=True)"
   ]
  },
  {
   "cell_type": "code",
   "execution_count": 44,
   "metadata": {},
   "outputs": [],
   "source": [
    "# instantiate KNN class to test\n",
    "knn = KNN(X,y)"
   ]
  },
  {
   "cell_type": "code",
   "execution_count": 45,
   "metadata": {},
   "outputs": [
    {
     "ename": "ValueError",
     "evalue": "object too deep for desired array",
     "output_type": "error",
     "traceback": [
      "\u001b[0;31m---------------------------------------------------------------------------\u001b[0m",
      "\u001b[0;31mValueError\u001b[0m                                Traceback (most recent call last)",
      "\u001b[0;32m<ipython-input-45-534a4b99432c>\u001b[0m in \u001b[0;36m<module>\u001b[0;34m\u001b[0m\n\u001b[1;32m      1\u001b[0m \u001b[0;31m# fit classification\u001b[0m\u001b[0;34m\u001b[0m\u001b[0;34m\u001b[0m\u001b[0;34m\u001b[0m\u001b[0m\n\u001b[1;32m      2\u001b[0m \u001b[0mt_0\u001b[0m \u001b[0;34m=\u001b[0m \u001b[0mdatetime\u001b[0m\u001b[0;34m.\u001b[0m\u001b[0mnow\u001b[0m\u001b[0;34m(\u001b[0m\u001b[0;34m)\u001b[0m\u001b[0;34m\u001b[0m\u001b[0;34m\u001b[0m\u001b[0m\n\u001b[0;32m----> 3\u001b[0;31m \u001b[0myhat\u001b[0m \u001b[0;34m=\u001b[0m \u001b[0mknn\u001b[0m\u001b[0;34m.\u001b[0m\u001b[0mpredict\u001b[0m\u001b[0;34m(\u001b[0m\u001b[0mX\u001b[0m\u001b[0;34m,\u001b[0m\u001b[0;36m9\u001b[0m\u001b[0;34m)\u001b[0m\u001b[0;34m\u001b[0m\u001b[0;34m\u001b[0m\u001b[0m\n\u001b[0m\u001b[1;32m      4\u001b[0m \u001b[0mt_f\u001b[0m \u001b[0;34m=\u001b[0m \u001b[0mdatetime\u001b[0m\u001b[0;34m.\u001b[0m\u001b[0mnow\u001b[0m\u001b[0;34m(\u001b[0m\u001b[0;34m)\u001b[0m\u001b[0;34m\u001b[0m\u001b[0;34m\u001b[0m\u001b[0m\n\u001b[1;32m      5\u001b[0m \u001b[0;34m\u001b[0m\u001b[0m\n",
      "\u001b[0;32m<ipython-input-43-dc095eb938be>\u001b[0m in \u001b[0;36mpredict\u001b[0;34m(self, X, K, **kwargs)\u001b[0m\n\u001b[1;32m     23\u001b[0m             \u001b[0mGAMMA\u001b[0m \u001b[0;34m=\u001b[0m \u001b[0mself\u001b[0m\u001b[0;34m.\u001b[0m\u001b[0m__gamma\u001b[0m\u001b[0;34m(\u001b[0m\u001b[0mDIST\u001b[0m\u001b[0;34m)\u001b[0m\u001b[0;34m\u001b[0m\u001b[0;34m\u001b[0m\u001b[0m\n\u001b[1;32m     24\u001b[0m \u001b[0;31m#             yhat = stats.mode(self.y[idx])[0]\u001b[0m\u001b[0;34m\u001b[0m\u001b[0;34m\u001b[0m\u001b[0;34m\u001b[0m\u001b[0m\n\u001b[0;32m---> 25\u001b[0;31m             \u001b[0myhat\u001b[0m \u001b[0;34m=\u001b[0m \u001b[0mnp\u001b[0m\u001b[0;34m.\u001b[0m\u001b[0mbincount\u001b[0m\u001b[0;34m(\u001b[0m\u001b[0mself\u001b[0m\u001b[0;34m.\u001b[0m\u001b[0my\u001b[0m\u001b[0;34m[\u001b[0m\u001b[0midx\u001b[0m\u001b[0;34m]\u001b[0m\u001b[0;34m,\u001b[0m \u001b[0mweights\u001b[0m\u001b[0;34m=\u001b[0m\u001b[0mGAMMA\u001b[0m\u001b[0;34m)\u001b[0m\u001b[0;34m.\u001b[0m\u001b[0margmax\u001b[0m\u001b[0;34m(\u001b[0m\u001b[0maxis\u001b[0m\u001b[0;34m=\u001b[0m\u001b[0;36m1\u001b[0m\u001b[0;34m)\u001b[0m\u001b[0;34m\u001b[0m\u001b[0;34m\u001b[0m\u001b[0m\n\u001b[0m\u001b[1;32m     26\u001b[0m \u001b[0;34m\u001b[0m\u001b[0m\n\u001b[1;32m     27\u001b[0m         \u001b[0;32mreturn\u001b[0m \u001b[0myhat\u001b[0m\u001b[0;34m\u001b[0m\u001b[0;34m\u001b[0m\u001b[0m\n",
      "\u001b[0;31mValueError\u001b[0m: object too deep for desired array"
     ]
    }
   ],
   "source": [
    "# fit classification\n",
    "t_0 = datetime.now()\n",
    "yhat = knn.predict(X,9)\n",
    "t_f = datetime.now()\n",
    "\n",
    "np.mean(y == yhat)\n",
    "df = (t_f - t_0).seconds\n",
    "print(f\"accuracy: {np.mean(y==yhat)}, time: {(t_f-t_0)}\")\n",
    "\n",
    "old = \"accuracy: 0.9693333333333334, time: 0:00:00.779266\""
   ]
  },
  {
   "cell_type": "code",
   "execution_count": null,
   "metadata": {},
   "outputs": [],
   "source": [
    "# fit regression\n",
    "t_0 = datetime.now()\n",
    "yhat = knn.predict(X,9, classification=False)\n",
    "t_f = datetime.now()\n",
    "\n",
    "np.mean(y == yhat)\n",
    "df = (t_f - t_0).seconds\n",
    "print(f\"accuracy: {np.mean(y==yhat)}, time: {(t_f-t_0)}\")"
   ]
  },
  {
   "cell_type": "code",
   "execution_count": null,
   "metadata": {},
   "outputs": [],
   "source": []
  },
  {
   "cell_type": "code",
   "execution_count": 261,
   "metadata": {},
   "outputs": [
    {
     "name": "stdout",
     "output_type": "stream",
     "text": [
      "accuracy: 0.3333333333333333, time: 0:00:00.438443\n"
     ]
    }
   ],
   "source": [
    "t_0 = datetime.now()\n",
    "y_hat = np.zeros(N)\n",
    "\n",
    "X1 = X.copy().reshape([N,1,D])\n",
    "DIST = np.sum( (X - X1)**2, axis=2)\n",
    "idx = np.argpartition(DIST, K)[:K]\n",
    "votes = y[idx]\n",
    "# votes,votes.shape\n",
    "for i in range(votes.shape[1]):\n",
    "    y_hat[i] = np.argmax( np.bincount(votes[:,i]) )\n",
    "# DIST = DIST[idx] # dimentionality problem?\n",
    "# eD = np.exp(DIST)\n",
    "# GAMMA = eD / eD.sum(axis=1, keepdims=True)\n",
    "# yhat = stats.mode(y*GAMMA, axis=0)[1]\n",
    "\n",
    "t_f = datetime.now()\n",
    "print(f\"accuracy: {np.mean(y==yhat)}, time: {(t_f-t_0)}\")\n",
    "# yhat = np.bincount(self.y[idx], weights=GAMMA).argmax(axis=1)"
   ]
  },
  {
   "cell_type": "code",
   "execution_count": 111,
   "metadata": {},
   "outputs": [
    {
     "data": {
      "text/plain": [
       "0.3333333333333333"
      ]
     },
     "execution_count": 111,
     "metadata": {},
     "output_type": "execute_result"
    }
   ],
   "source": [
    "np.mean(y ==yhat)"
   ]
  },
  {
   "cell_type": "code",
   "execution_count": 191,
   "metadata": {},
   "outputs": [
    {
     "data": {
      "text/plain": [
       "(array([[ 18.,  -3.],\n",
       "        [-11.,   6.],\n",
       "        [  9.,  -3.],\n",
       "        [  4.,   7.],\n",
       "        [ -1.,   7.]]), (5, 2))"
      ]
     },
     "execution_count": 191,
     "metadata": {},
     "output_type": "execute_result"
    }
   ],
   "source": [
    "A1 = (np.random.randn(5,2) * 100) // 10\n",
    "A1,A1.shape # obs,feature"
   ]
  },
  {
   "cell_type": "code",
   "execution_count": 192,
   "metadata": {},
   "outputs": [
    {
     "data": {
      "text/plain": [
       "(array([[[  9.,   6.]],\n",
       " \n",
       "        [[-15.,   6.]],\n",
       " \n",
       "        [[  0.,  -7.]],\n",
       " \n",
       "        [[ -2.,  -3.]],\n",
       " \n",
       "        [[  0.,  -6.]]]), (5, 1, 2))"
      ]
     },
     "execution_count": 192,
     "metadata": {},
     "output_type": "execute_result"
    }
   ],
   "source": [
    "A2 = (np.random.randn(5,1,2) * 100) // 10\n",
    "A2,A2.shape #obs,feature"
   ]
  },
  {
   "cell_type": "code",
   "execution_count": 193,
   "metadata": {},
   "outputs": [
    {
     "data": {
      "text/plain": [
       "(array([[[  9.,  -9.],\n",
       "         [-20.,   0.],\n",
       "         [  0.,  -9.],\n",
       "         [ -5.,   1.],\n",
       "         [-10.,   1.]],\n",
       " \n",
       "        [[ 33.,  -9.],\n",
       "         [  4.,   0.],\n",
       "         [ 24.,  -9.],\n",
       "         [ 19.,   1.],\n",
       "         [ 14.,   1.]],\n",
       " \n",
       "        [[ 18.,   4.],\n",
       "         [-11.,  13.],\n",
       "         [  9.,   4.],\n",
       "         [  4.,  14.],\n",
       "         [ -1.,  14.]],\n",
       " \n",
       "        [[ 20.,   0.],\n",
       "         [ -9.,   9.],\n",
       "         [ 11.,   0.],\n",
       "         [  6.,  10.],\n",
       "         [  1.,  10.]],\n",
       " \n",
       "        [[ 18.,   3.],\n",
       "         [-11.,  12.],\n",
       "         [  9.,   3.],\n",
       "         [  4.,  13.],\n",
       "         [ -1.,  13.]]]), (5, 5, 2))"
      ]
     },
     "execution_count": 193,
     "metadata": {},
     "output_type": "execute_result"
    }
   ],
   "source": [
    "A3 = A1-A2\n",
    "A3,A3.shape # pred,obs,feature"
   ]
  },
  {
   "cell_type": "code",
   "execution_count": 194,
   "metadata": {},
   "outputs": [
    {
     "data": {
      "text/plain": [
       "(array([[ 162.,  400.,   81.,   26.,  101.],\n",
       "        [1170.,   16.,  657.,  362.,  197.],\n",
       "        [ 340.,  290.,   97.,  212.,  197.],\n",
       "        [ 400.,  162.,  121.,  136.,  101.],\n",
       "        [ 333.,  265.,   90.,  185.,  170.]]), (5, 5))"
      ]
     },
     "execution_count": 194,
     "metadata": {},
     "output_type": "execute_result"
    }
   ],
   "source": [
    "A = np.sum( A3**2, axis=2 )\n",
    "A,A.shape # each row is the distances from the point being predicted to the points in the training data"
   ]
  },
  {
   "cell_type": "code",
   "execution_count": 245,
   "metadata": {},
   "outputs": [
    {
     "data": {
      "text/plain": [
       "(array([[3, 2, 4, 0, 1],\n",
       "        [1, 4, 3, 2, 0]]), (2, 5))"
      ]
     },
     "execution_count": 245,
     "metadata": {},
     "output_type": "execute_result"
    }
   ],
   "source": [
    "K = 2\n",
    "idx = np.argpartition(A, K)[:K]\n",
    "idx,idx.shape"
   ]
  },
  {
   "cell_type": "code",
   "execution_count": 247,
   "metadata": {},
   "outputs": [
    {
     "data": {
      "text/plain": [
       "(array([[0, 0, 0, 0, 0],\n",
       "        [0, 0, 0, 0, 0]]), (2, 5))"
      ]
     },
     "execution_count": 247,
     "metadata": {},
     "output_type": "execute_result"
    }
   ],
   "source": [
    "votes = y[idx]\n",
    "votes,votes.shape"
   ]
  },
  {
   "cell_type": "code",
   "execution_count": 248,
   "metadata": {},
   "outputs": [
    {
     "ename": "ValueError",
     "evalue": "object too deep for desired array",
     "output_type": "error",
     "traceback": [
      "\u001b[0;31m---------------------------------------------------------------------------\u001b[0m",
      "\u001b[0;31mValueError\u001b[0m                                Traceback (most recent call last)",
      "\u001b[0;32m<ipython-input-248-4121e34f004a>\u001b[0m in \u001b[0;36m<module>\u001b[0;34m\u001b[0m\n\u001b[0;32m----> 1\u001b[0;31m \u001b[0mlabels_count\u001b[0m \u001b[0;34m=\u001b[0m \u001b[0mnp\u001b[0m\u001b[0;34m.\u001b[0m\u001b[0mbincount\u001b[0m\u001b[0;34m(\u001b[0m\u001b[0mvotes\u001b[0m\u001b[0;34m)\u001b[0m\u001b[0;34m\u001b[0m\u001b[0;34m\u001b[0m\u001b[0m\n\u001b[0m\u001b[1;32m      2\u001b[0m \u001b[0mlabels_count\u001b[0m\u001b[0;34m,\u001b[0m\u001b[0mlabels_count\u001b[0m\u001b[0;34m.\u001b[0m\u001b[0mshape\u001b[0m\u001b[0;34m\u001b[0m\u001b[0;34m\u001b[0m\u001b[0m\n",
      "\u001b[0;31mValueError\u001b[0m: object too deep for desired array"
     ]
    }
   ],
   "source": [
    "labels_count = np.bincount(votes)\n",
    "labels_count,labels_count.shape"
   ]
  },
  {
   "cell_type": "code",
   "execution_count": null,
   "metadata": {},
   "outputs": [],
   "source": []
  }
 ],
 "metadata": {
  "kernelspec": {
   "display_name": "Python 3",
   "language": "python",
   "name": "python3"
  },
  "language_info": {
   "codemirror_mode": {
    "name": "ipython",
    "version": 3
   },
   "file_extension": ".py",
   "mimetype": "text/x-python",
   "name": "python",
   "nbconvert_exporter": "python",
   "pygments_lexer": "ipython3",
   "version": "3.6.7"
  }
 },
 "nbformat": 4,
 "nbformat_minor": 2
}

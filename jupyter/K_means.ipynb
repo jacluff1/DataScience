{
 "cells": [
  {
   "cell_type": "code",
   "execution_count": 1,
   "metadata": {},
   "outputs": [],
   "source": [
    "import numpy as np\n",
    "from tqdm import tqdm\n",
    "import matplotlib.pyplot as plt\n",
    "%matplotlib inline"
   ]
  },
  {
   "cell_type": "code",
   "execution_count": 2,
   "metadata": {},
   "outputs": [],
   "source": [
    "class Kmeans:\n",
    "    \n",
    "    def __init__(self, X, K, beta):\n",
    "        self.X = X\n",
    "        self.K = K\n",
    "        self.beta = beta\n",
    "        self.N,self.D = X.shape\n",
    "        idx = np.random.permutation(self.N)[:K]\n",
    "        self.m = X.copy()[idx]\n",
    "        \n",
    "    def distance2(self):\n",
    "        "
   ]
  },
  {
   "cell_type": "code",
   "execution_count": 5,
   "metadata": {},
   "outputs": [
    {
     "data": {
      "text/plain": [
       "(array([[-46., -48.],\n",
       "        [ 15., -20.],\n",
       "        [-10., -30.],\n",
       "        [ 48.,  34.],\n",
       "        [ 31.,  -8.]]), (5, 2))"
      ]
     },
     "execution_count": 5,
     "metadata": {},
     "output_type": "execute_result"
    }
   ],
   "source": [
    "X = (np.random.randn(5,2) * 100) // 3\n",
    "X,X.shape"
   ]
  },
  {
   "cell_type": "code",
   "execution_count": 6,
   "metadata": {},
   "outputs": [
    {
     "data": {
      "text/plain": [
       "(array([[-23.,  17.],\n",
       "        [-34.,  51.]]), (2, 2))"
      ]
     },
     "execution_count": 6,
     "metadata": {},
     "output_type": "execute_result"
    }
   ],
   "source": [
    "m = (np.random.randn(2,2) * 100) // 3\n",
    "m,m.shape"
   ]
  },
  {
   "cell_type": "code",
   "execution_count": 7,
   "metadata": {},
   "outputs": [
    {
     "data": {
      "text/plain": [
       "(array([[[-23., -65.],\n",
       "         [ 38., -37.],\n",
       "         [ 13., -47.],\n",
       "         [ 71.,  17.],\n",
       "         [ 54., -25.]],\n",
       " \n",
       "        [[-12., -99.],\n",
       "         [ 49., -71.],\n",
       "         [ 24., -81.],\n",
       "         [ 82., -17.],\n",
       "         [ 65., -59.]]]), (2, 5, 2))"
      ]
     },
     "execution_count": 7,
     "metadata": {},
     "output_type": "execute_result"
    }
   ],
   "source": [
    "diff = X - m.reshape([2,1,2])\n",
    "diff,diff.shape"
   ]
  },
  {
   "cell_type": "code",
   "execution_count": null,
   "metadata": {},
   "outputs": [],
   "source": []
  }
 ],
 "metadata": {
  "kernelspec": {
   "display_name": "Python 3",
   "language": "python",
   "name": "python3"
  },
  "language_info": {
   "codemirror_mode": {
    "name": "ipython",
    "version": 3
   },
   "file_extension": ".py",
   "mimetype": "text/x-python",
   "name": "python",
   "nbconvert_exporter": "python",
   "pygments_lexer": "ipython3",
   "version": "3.6.7"
  }
 },
 "nbformat": 4,
 "nbformat_minor": 2
}

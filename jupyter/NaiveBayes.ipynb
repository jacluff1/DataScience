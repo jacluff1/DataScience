{
 "cells": [
  {
   "cell_type": "code",
   "execution_count": 1,
   "metadata": {},
   "outputs": [],
   "source": [
    "import numpy as np"
   ]
  },
  {
   "cell_type": "code",
   "execution_count": 13,
   "metadata": {},
   "outputs": [],
   "source": [
    "def Gaussian(x,mu,sigma):\n",
    "    var = sigma**2\n",
    "    return 1/np.sqrt(2*np.pi*var) * np.exp( -(x-mu)**2 / (2*var) )"
   ]
  },
  {
   "cell_type": "code",
   "execution_count": 14,
   "metadata": {},
   "outputs": [
    {
     "name": "stdout",
     "output_type": "stream",
     "text": [
      "yhat: 1, phat: [0.029345   0.05634282]\n"
     ]
    }
   ],
   "source": [
    "p_1 = 0.5149\n",
    "p_0 = 1 - p_1\n",
    "p_gender = [p_0, p_1]\n",
    "\n",
    "mu = [70, 65]\n",
    "sigma = [4, 3.5]\n",
    "\n",
    "phat = np.zeros(2)\n",
    "for k in [0,1]:\n",
    "#     phat[k] = np.log(Gaussian(66,mu[k],sigma[k])) + np.log(p_gender[k])\n",
    "    phat[k] = Gaussian(66,mu[k],sigma[k]) * p_gender[k]\n",
    "\n",
    "yhat = phat.argmax()\n",
    "print(f\"yhat: {yhat}, phat: {phat}\")"
   ]
  },
  {
   "cell_type": "code",
   "execution_count": null,
   "metadata": {},
   "outputs": [],
   "source": []
  },
  {
   "cell_type": "code",
   "execution_count": null,
   "metadata": {},
   "outputs": [],
   "source": []
  }
 ],
 "metadata": {
  "kernelspec": {
   "display_name": "Python 3",
   "language": "python",
   "name": "python3"
  },
  "language_info": {
   "codemirror_mode": {
    "name": "ipython",
    "version": 3
   },
   "file_extension": ".py",
   "mimetype": "text/x-python",
   "name": "python",
   "nbconvert_exporter": "python",
   "pygments_lexer": "ipython3",
   "version": "3.6.7"
  }
 },
 "nbformat": 4,
 "nbformat_minor": 2
}

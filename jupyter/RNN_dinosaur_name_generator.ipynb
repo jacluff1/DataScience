{
 "cells": [
  {
   "cell_type": "code",
   "execution_count": 42,
   "metadata": {},
   "outputs": [],
   "source": [
    "import numpy as np\n",
    "import pandas as pd\n",
    "import torch\n",
    "from torch.autograd import Variable\n",
    "import matplotlib.pyplot as plt\n",
    "from tqdm import tqdm_notebook as tqdm\n",
    "%matplotlib inline"
   ]
  },
  {
   "cell_type": "code",
   "execution_count": 10,
   "metadata": {},
   "outputs": [],
   "source": [
    "dinos = pd.read_csv(\"../data/dinosaurs.csv\", names=['name'])"
   ]
  },
  {
   "cell_type": "code",
   "execution_count": 13,
   "metadata": {},
   "outputs": [],
   "source": [
    "Names = dinos.name"
   ]
  },
  {
   "cell_type": "code",
   "execution_count": 14,
   "metadata": {},
   "outputs": [
    {
     "data": {
      "text/plain": [
       "0    [a, a, c, h, e, n, o, s, a, u, r, u, s]\n",
       "1                   [a, a, r, d, o, n, y, x]\n",
       "2          [a, b, e, l, i, s, a, u, r, u, s]\n",
       "3    [a, b, r, i, c, t, o, s, a, u, r, u, s]\n",
       "4             [a, b, r, o, s, a, u, r, u, s]\n",
       "Name: name, dtype: object"
      ]
     },
     "execution_count": 14,
     "metadata": {},
     "output_type": "execute_result"
    }
   ],
   "source": [
    "NamesSep = Names.map(lambda x: list(x))\n",
    "NamesSep.head()"
   ]
  },
  {
   "cell_type": "code",
   "execution_count": 15,
   "metadata": {},
   "outputs": [
    {
     "data": {
      "text/plain": [
       "0    [a, a, c, h, e, n, o, s, a, u, r, u, s, #]\n",
       "1                   [a, a, r, d, o, n, y, x, #]\n",
       "2          [a, b, e, l, i, s, a, u, r, u, s, #]\n",
       "3    [a, b, r, i, c, t, o, s, a, u, r, u, s, #]\n",
       "4             [a, b, r, o, s, a, u, r, u, s, #]\n",
       "Name: name, dtype: object"
      ]
     },
     "execution_count": 15,
     "metadata": {},
     "output_type": "execute_result"
    }
   ],
   "source": [
    "NamesSepWithStartStop = NamesSep.map(lambda x: x+['#'])\n",
    "NamesSepWithStartStop.head()"
   ]
  },
  {
   "cell_type": "code",
   "execution_count": 48,
   "metadata": {},
   "outputs": [
    {
     "data": {
      "text/html": [
       "<div>\n",
       "<style scoped>\n",
       "    .dataframe tbody tr th:only-of-type {\n",
       "        vertical-align: middle;\n",
       "    }\n",
       "\n",
       "    .dataframe tbody tr th {\n",
       "        vertical-align: top;\n",
       "    }\n",
       "\n",
       "    .dataframe thead th {\n",
       "        text-align: right;\n",
       "    }\n",
       "</style>\n",
       "<table border=\"1\" class=\"dataframe\">\n",
       "  <thead>\n",
       "    <tr style=\"text-align: right;\">\n",
       "      <th></th>\n",
       "      <th>Name</th>\n",
       "      <th>Length</th>\n",
       "    </tr>\n",
       "  </thead>\n",
       "  <tbody>\n",
       "    <tr>\n",
       "      <th>0</th>\n",
       "      <td>[a, a, c, h, e, n, o, s, a, u, r, u, s, #]</td>\n",
       "      <td>14</td>\n",
       "    </tr>\n",
       "    <tr>\n",
       "      <th>1</th>\n",
       "      <td>[a, a, r, d, o, n, y, x, #]</td>\n",
       "      <td>9</td>\n",
       "    </tr>\n",
       "    <tr>\n",
       "      <th>2</th>\n",
       "      <td>[a, b, e, l, i, s, a, u, r, u, s, #]</td>\n",
       "      <td>12</td>\n",
       "    </tr>\n",
       "    <tr>\n",
       "      <th>3</th>\n",
       "      <td>[a, b, r, i, c, t, o, s, a, u, r, u, s, #]</td>\n",
       "      <td>14</td>\n",
       "    </tr>\n",
       "    <tr>\n",
       "      <th>4</th>\n",
       "      <td>[a, b, r, o, s, a, u, r, u, s, #]</td>\n",
       "      <td>11</td>\n",
       "    </tr>\n",
       "  </tbody>\n",
       "</table>\n",
       "</div>"
      ],
      "text/plain": [
       "                                         Name  Length\n",
       "0  [a, a, c, h, e, n, o, s, a, u, r, u, s, #]      14\n",
       "1                 [a, a, r, d, o, n, y, x, #]       9\n",
       "2        [a, b, e, l, i, s, a, u, r, u, s, #]      12\n",
       "3  [a, b, r, i, c, t, o, s, a, u, r, u, s, #]      14\n",
       "4           [a, b, r, o, s, a, u, r, u, s, #]      11"
      ]
     },
     "execution_count": 48,
     "metadata": {},
     "output_type": "execute_result"
    }
   ],
   "source": [
    "AllNames = pd.concat([NamesSepWithStartStop,NamesSepWithStartStop.map(lambda x: len(x))],axis=1)\n",
    "AllNames.columns = ['Name','Length']\n",
    "AllNames.head()"
   ]
  },
  {
   "cell_type": "code",
   "execution_count": 17,
   "metadata": {},
   "outputs": [
    {
     "data": {
      "text/html": [
       "<div>\n",
       "<style scoped>\n",
       "    .dataframe tbody tr th:only-of-type {\n",
       "        vertical-align: middle;\n",
       "    }\n",
       "\n",
       "    .dataframe tbody tr th {\n",
       "        vertical-align: top;\n",
       "    }\n",
       "\n",
       "    .dataframe thead th {\n",
       "        text-align: right;\n",
       "    }\n",
       "</style>\n",
       "<table border=\"1\" class=\"dataframe\">\n",
       "  <thead>\n",
       "    <tr style=\"text-align: right;\">\n",
       "      <th></th>\n",
       "      <th>Length</th>\n",
       "    </tr>\n",
       "  </thead>\n",
       "  <tbody>\n",
       "    <tr>\n",
       "      <th>count</th>\n",
       "      <td>1325.000000</td>\n",
       "    </tr>\n",
       "    <tr>\n",
       "      <th>mean</th>\n",
       "      <td>12.800755</td>\n",
       "    </tr>\n",
       "    <tr>\n",
       "      <th>std</th>\n",
       "      <td>2.455249</td>\n",
       "    </tr>\n",
       "    <tr>\n",
       "      <th>min</th>\n",
       "      <td>4.000000</td>\n",
       "    </tr>\n",
       "    <tr>\n",
       "      <th>25%</th>\n",
       "      <td>11.000000</td>\n",
       "    </tr>\n",
       "    <tr>\n",
       "      <th>50%</th>\n",
       "      <td>13.000000</td>\n",
       "    </tr>\n",
       "    <tr>\n",
       "      <th>75%</th>\n",
       "      <td>14.000000</td>\n",
       "    </tr>\n",
       "    <tr>\n",
       "      <th>max</th>\n",
       "      <td>24.000000</td>\n",
       "    </tr>\n",
       "  </tbody>\n",
       "</table>\n",
       "</div>"
      ],
      "text/plain": [
       "            Length\n",
       "count  1325.000000\n",
       "mean     12.800755\n",
       "std       2.455249\n",
       "min       4.000000\n",
       "25%      11.000000\n",
       "50%      13.000000\n",
       "75%      14.000000\n",
       "max      24.000000"
      ]
     },
     "execution_count": 17,
     "metadata": {},
     "output_type": "execute_result"
    }
   ],
   "source": [
    "AllNames.describe()"
   ]
  },
  {
   "cell_type": "code",
   "execution_count": 18,
   "metadata": {},
   "outputs": [],
   "source": [
    "TempNames = list(AllNames.Name)"
   ]
  },
  {
   "cell_type": "code",
   "execution_count": 19,
   "metadata": {},
   "outputs": [],
   "source": [
    "allChars = [char for name in TempNames for char in name]"
   ]
  },
  {
   "cell_type": "code",
   "execution_count": 20,
   "metadata": {},
   "outputs": [
    {
     "data": {
      "text/plain": [
       "['d',\n",
       " 'v',\n",
       " 'j',\n",
       " 'q',\n",
       " 's',\n",
       " 'm',\n",
       " 'c',\n",
       " 'r',\n",
       " 'y',\n",
       " 'u',\n",
       " 'x',\n",
       " 'k',\n",
       " 'z',\n",
       " 'w',\n",
       " 'b',\n",
       " 't',\n",
       " 'n',\n",
       " 'o',\n",
       " 'p',\n",
       " 'h',\n",
       " 'l',\n",
       " 'a',\n",
       " '#',\n",
       " 'e',\n",
       " 'f',\n",
       " 'g',\n",
       " 'i']"
      ]
     },
     "execution_count": 20,
     "metadata": {},
     "output_type": "execute_result"
    }
   ],
   "source": [
    "chars = list(set(allChars))\n",
    "chars"
   ]
  },
  {
   "cell_type": "code",
   "execution_count": 21,
   "metadata": {},
   "outputs": [
    {
     "data": {
      "text/plain": [
       "{'d': 0,\n",
       " 'v': 1,\n",
       " 'j': 2,\n",
       " 'q': 3,\n",
       " 's': 4,\n",
       " 'm': 5,\n",
       " 'c': 6,\n",
       " 'r': 7,\n",
       " 'y': 8,\n",
       " 'u': 9,\n",
       " 'x': 10,\n",
       " 'k': 11,\n",
       " 'z': 12,\n",
       " 'w': 13,\n",
       " 'b': 14,\n",
       " 't': 15,\n",
       " 'n': 16,\n",
       " 'o': 17,\n",
       " 'p': 18,\n",
       " 'h': 19,\n",
       " 'l': 20,\n",
       " 'a': 21,\n",
       " '#': 22,\n",
       " 'e': 23,\n",
       " 'f': 24,\n",
       " 'g': 25,\n",
       " 'i': 26}"
      ]
     },
     "execution_count": 21,
     "metadata": {},
     "output_type": "execute_result"
    }
   ],
   "source": [
    "char_to_token = dict(zip(chars,[num for num in range(len(chars))]))\n",
    "char_to_token"
   ]
  },
  {
   "cell_type": "code",
   "execution_count": 22,
   "metadata": {},
   "outputs": [
    {
     "name": "stdout",
     "output_type": "stream",
     "text": [
      "26\n"
     ]
    },
    {
     "data": {
      "text/plain": [
       "{0: array([[1., 0., 0., 0., 0., 0., 0., 0., 0., 0., 0., 0., 0., 0., 0., 0.,\n",
       "         0., 0., 0., 0., 0., 0., 0., 0., 0., 0., 0.]]),\n",
       " 1: array([[0., 1., 0., 0., 0., 0., 0., 0., 0., 0., 0., 0., 0., 0., 0., 0.,\n",
       "         0., 0., 0., 0., 0., 0., 0., 0., 0., 0., 0.]]),\n",
       " 2: array([[0., 0., 1., 0., 0., 0., 0., 0., 0., 0., 0., 0., 0., 0., 0., 0.,\n",
       "         0., 0., 0., 0., 0., 0., 0., 0., 0., 0., 0.]]),\n",
       " 3: array([[0., 0., 0., 1., 0., 0., 0., 0., 0., 0., 0., 0., 0., 0., 0., 0.,\n",
       "         0., 0., 0., 0., 0., 0., 0., 0., 0., 0., 0.]]),\n",
       " 4: array([[0., 0., 0., 0., 1., 0., 0., 0., 0., 0., 0., 0., 0., 0., 0., 0.,\n",
       "         0., 0., 0., 0., 0., 0., 0., 0., 0., 0., 0.]]),\n",
       " 5: array([[0., 0., 0., 0., 0., 1., 0., 0., 0., 0., 0., 0., 0., 0., 0., 0.,\n",
       "         0., 0., 0., 0., 0., 0., 0., 0., 0., 0., 0.]]),\n",
       " 6: array([[0., 0., 0., 0., 0., 0., 1., 0., 0., 0., 0., 0., 0., 0., 0., 0.,\n",
       "         0., 0., 0., 0., 0., 0., 0., 0., 0., 0., 0.]]),\n",
       " 7: array([[0., 0., 0., 0., 0., 0., 0., 1., 0., 0., 0., 0., 0., 0., 0., 0.,\n",
       "         0., 0., 0., 0., 0., 0., 0., 0., 0., 0., 0.]]),\n",
       " 8: array([[0., 0., 0., 0., 0., 0., 0., 0., 1., 0., 0., 0., 0., 0., 0., 0.,\n",
       "         0., 0., 0., 0., 0., 0., 0., 0., 0., 0., 0.]]),\n",
       " 9: array([[0., 0., 0., 0., 0., 0., 0., 0., 0., 1., 0., 0., 0., 0., 0., 0.,\n",
       "         0., 0., 0., 0., 0., 0., 0., 0., 0., 0., 0.]]),\n",
       " 10: array([[0., 0., 0., 0., 0., 0., 0., 0., 0., 0., 1., 0., 0., 0., 0., 0.,\n",
       "         0., 0., 0., 0., 0., 0., 0., 0., 0., 0., 0.]]),\n",
       " 11: array([[0., 0., 0., 0., 0., 0., 0., 0., 0., 0., 0., 1., 0., 0., 0., 0.,\n",
       "         0., 0., 0., 0., 0., 0., 0., 0., 0., 0., 0.]]),\n",
       " 12: array([[0., 0., 0., 0., 0., 0., 0., 0., 0., 0., 0., 0., 1., 0., 0., 0.,\n",
       "         0., 0., 0., 0., 0., 0., 0., 0., 0., 0., 0.]]),\n",
       " 13: array([[0., 0., 0., 0., 0., 0., 0., 0., 0., 0., 0., 0., 0., 1., 0., 0.,\n",
       "         0., 0., 0., 0., 0., 0., 0., 0., 0., 0., 0.]]),\n",
       " 14: array([[0., 0., 0., 0., 0., 0., 0., 0., 0., 0., 0., 0., 0., 0., 1., 0.,\n",
       "         0., 0., 0., 0., 0., 0., 0., 0., 0., 0., 0.]]),\n",
       " 15: array([[0., 0., 0., 0., 0., 0., 0., 0., 0., 0., 0., 0., 0., 0., 0., 1.,\n",
       "         0., 0., 0., 0., 0., 0., 0., 0., 0., 0., 0.]]),\n",
       " 16: array([[0., 0., 0., 0., 0., 0., 0., 0., 0., 0., 0., 0., 0., 0., 0., 0.,\n",
       "         1., 0., 0., 0., 0., 0., 0., 0., 0., 0., 0.]]),\n",
       " 17: array([[0., 0., 0., 0., 0., 0., 0., 0., 0., 0., 0., 0., 0., 0., 0., 0.,\n",
       "         0., 1., 0., 0., 0., 0., 0., 0., 0., 0., 0.]]),\n",
       " 18: array([[0., 0., 0., 0., 0., 0., 0., 0., 0., 0., 0., 0., 0., 0., 0., 0.,\n",
       "         0., 0., 1., 0., 0., 0., 0., 0., 0., 0., 0.]]),\n",
       " 19: array([[0., 0., 0., 0., 0., 0., 0., 0., 0., 0., 0., 0., 0., 0., 0., 0.,\n",
       "         0., 0., 0., 1., 0., 0., 0., 0., 0., 0., 0.]]),\n",
       " 20: array([[0., 0., 0., 0., 0., 0., 0., 0., 0., 0., 0., 0., 0., 0., 0., 0.,\n",
       "         0., 0., 0., 0., 1., 0., 0., 0., 0., 0., 0.]]),\n",
       " 21: array([[0., 0., 0., 0., 0., 0., 0., 0., 0., 0., 0., 0., 0., 0., 0., 0.,\n",
       "         0., 0., 0., 0., 0., 1., 0., 0., 0., 0., 0.]]),\n",
       " 22: array([[0., 0., 0., 0., 0., 0., 0., 0., 0., 0., 0., 0., 0., 0., 0., 0.,\n",
       "         0., 0., 0., 0., 0., 0., 1., 0., 0., 0., 0.]]),\n",
       " 23: array([[0., 0., 0., 0., 0., 0., 0., 0., 0., 0., 0., 0., 0., 0., 0., 0.,\n",
       "         0., 0., 0., 0., 0., 0., 0., 1., 0., 0., 0.]]),\n",
       " 24: array([[0., 0., 0., 0., 0., 0., 0., 0., 0., 0., 0., 0., 0., 0., 0., 0.,\n",
       "         0., 0., 0., 0., 0., 0., 0., 0., 1., 0., 0.]]),\n",
       " 25: array([[0., 0., 0., 0., 0., 0., 0., 0., 0., 0., 0., 0., 0., 0., 0., 0.,\n",
       "         0., 0., 0., 0., 0., 0., 0., 0., 0., 1., 0.]]),\n",
       " 26: array([[0., 0., 0., 0., 0., 0., 0., 0., 0., 0., 0., 0., 0., 0., 0., 0.,\n",
       "         0., 0., 0., 0., 0., 0., 0., 0., 0., 0., 1.]])}"
      ]
     },
     "execution_count": 22,
     "metadata": {},
     "output_type": "execute_result"
    }
   ],
   "source": [
    "max_token = max(list(char_to_token.values()))\n",
    "print(max_token)\n",
    "token_to_encode = dict()\n",
    "for i in char_to_token.values():\n",
    "    temp = np.zeros((1,max_token+1))\n",
    "    temp[:,i] = 1\n",
    "    token_to_encode[i] = temp\n",
    "\n",
    "token_to_encode"
   ]
  },
  {
   "cell_type": "code",
   "execution_count": 24,
   "metadata": {},
   "outputs": [],
   "source": [
    "def tokenEncoder(tokens):\n",
    "    encoded = np.empty((len(tokens),max_token+1))\n",
    "    for i in range(len(tokens)):\n",
    "        encoded[i,:] = token_to_encode[tokens[i]]\n",
    "    return encoded"
   ]
  },
  {
   "cell_type": "code",
   "execution_count": 26,
   "metadata": {},
   "outputs": [
    {
     "data": {
      "text/plain": [
       "{0: 'd',\n",
       " 1: 'v',\n",
       " 2: 'j',\n",
       " 3: 'q',\n",
       " 4: 's',\n",
       " 5: 'm',\n",
       " 6: 'c',\n",
       " 7: 'r',\n",
       " 8: 'y',\n",
       " 9: 'u',\n",
       " 10: 'x',\n",
       " 11: 'k',\n",
       " 12: 'z',\n",
       " 13: 'w',\n",
       " 14: 'b',\n",
       " 15: 't',\n",
       " 16: 'n',\n",
       " 17: 'o',\n",
       " 18: 'p',\n",
       " 19: 'h',\n",
       " 20: 'l',\n",
       " 21: 'a',\n",
       " 22: '#',\n",
       " 23: 'e',\n",
       " 24: 'f',\n",
       " 25: 'g',\n",
       " 26: 'i'}"
      ]
     },
     "execution_count": 26,
     "metadata": {},
     "output_type": "execute_result"
    }
   ],
   "source": [
    "token_to_char = {value: key for key, value in char_to_token.items() }\n",
    "token_to_char"
   ]
  },
  {
   "cell_type": "code",
   "execution_count": 27,
   "metadata": {},
   "outputs": [],
   "source": [
    "def encodingCharacterizer(encoding):\n",
    "    characters = list()\n",
    "    for i in range(len(encoding)):\n",
    "        characters.append(token_to_char[encoding[i].argmax()])\n",
    "    return characters"
   ]
  },
  {
   "cell_type": "code",
   "execution_count": 29,
   "metadata": {},
   "outputs": [],
   "source": [
    "dtype = torch.FloatTensor\n",
    "input_size, hidden_size, output_size = max_token+1+max_token+1, max_token+1, max_token+1"
   ]
  },
  {
   "cell_type": "code",
   "execution_count": 30,
   "metadata": {},
   "outputs": [],
   "source": [
    "w1 = torch.FloatTensor(np.random.randn(input_size, hidden_size)).type(dtype)\n",
    "w1 =  Variable(w1, requires_grad=True)\n",
    "w2 = torch.FloatTensor(np.random.randn(hidden_size, output_size)).type(dtype)\n",
    "w2 = Variable(w2, requires_grad=True)\n",
    "b1 = torch.FloatTensor(np.random.randn(1, hidden_size)).type(dtype)\n",
    "b1 =  Variable(b1, requires_grad=True)\n",
    "b2 = torch.FloatTensor(np.random.randn(1, output_size)).type(dtype)\n",
    "b2 = Variable(b2, requires_grad=True)\n",
    "w3 = torch.FloatTensor(np.random.randn(output_size, output_size)).type(dtype)\n",
    "w3 = Variable(w3, requires_grad=True)\n",
    "b3 = torch.FloatTensor(np.random.randn(1, output_size)).type(dtype)\n",
    "b3 = Variable(b3, requires_grad=True)"
   ]
  },
  {
   "cell_type": "code",
   "execution_count": 49,
   "metadata": {},
   "outputs": [
    {
     "data": {
      "text/plain": [
       "torch.Size([12, 27])"
      ]
     },
     "execution_count": 49,
     "metadata": {},
     "output_type": "execute_result"
    }
   ],
   "source": [
    "TestTensor = torch.FloatTensor(tokenEncoder(charTokenizer(AllNames.Name[2])))\n",
    "TestTensor.size()"
   ]
  },
  {
   "cell_type": "code",
   "execution_count": 32,
   "metadata": {},
   "outputs": [],
   "source": [
    "def cycle(hidden,inputs):\n",
    "    h_t = torch.tanh(torch.mm(torch.cat([inputs,hidden],dim=1),w1)+b1)\n",
    "    out = torch.mm(torch.tanh(torch.mm(h_t,w2)+b2),w3)+b3\n",
    "    return h_t, out\n",
    "    \n",
    "def forward(X,init=None):\n",
    "    lenSeq = X.size(0)\n",
    "    hiddens = []\n",
    "    outs = []\n",
    "    if init==None:\n",
    "        h_t=torch.zeros(1,X.size(1))\n",
    "    else:\n",
    "        h_t = init\n",
    "    for i in range(lenSeq):\n",
    "        h_t,out = cycle(h_t,X[[i]])\n",
    "        hiddens.append(h_t)\n",
    "        outs.append(out)\n",
    "    hiddenSeq = torch.cat(hiddens)\n",
    "    outSeq = torch.cat(outs)\n",
    "    return hiddenSeq,outSeq"
   ]
  },
  {
   "cell_type": "code",
   "execution_count": 33,
   "metadata": {},
   "outputs": [],
   "source": [
    "optimizer = torch.optim.Adam([w1,w2,w3,b1,b2,b3], lr = 0.001)\n",
    "\n",
    "def backward(OutputSequence,TrueLabels):\n",
    "    _, targets = TrueLabels.max(dim=1)\n",
    "    #print(targets)\n",
    "    loss = torch.nn.CrossEntropyLoss()(OutputSequence,targets)\n",
    "    loss.backward()\n",
    "    optimizer.step()\n",
    "    optimizer.zero_grad()\n",
    "    #print(loss.data)\n",
    "    return loss"
   ]
  },
  {
   "cell_type": "code",
   "execution_count": 34,
   "metadata": {},
   "outputs": [
    {
     "data": {
      "text/plain": [
       "tensor(10.6422, grad_fn=<NllLossBackward>)"
      ]
     },
     "execution_count": 34,
     "metadata": {},
     "output_type": "execute_result"
    }
   ],
   "source": [
    "hid,out = forward(TestTensor[0:-1])\n",
    "backward(out,TestTensor[1:])"
   ]
  },
  {
   "cell_type": "code",
   "execution_count": 35,
   "metadata": {},
   "outputs": [],
   "source": [
    "Names = AllNames.Name"
   ]
  },
  {
   "cell_type": "code",
   "execution_count": 36,
   "metadata": {},
   "outputs": [],
   "source": [
    "EncodedNames = Names.apply(lambda x: tokenEncoder(charTokenizer(x)))"
   ]
  },
  {
   "cell_type": "code",
   "execution_count": 37,
   "metadata": {},
   "outputs": [
    {
     "data": {
      "text/plain": [
       "(10, 27)"
      ]
     },
     "execution_count": 37,
     "metadata": {},
     "output_type": "execute_result"
    }
   ],
   "source": [
    "np.array(EncodedNames.sample().tolist()[0]).shape"
   ]
  },
  {
   "cell_type": "code",
   "execution_count": 43,
   "metadata": {},
   "outputs": [
    {
     "data": {
      "application/vnd.jupyter.widget-view+json": {
       "model_id": "7dc93d7a332c4dca9dff400393f26afb",
       "version_major": 2,
       "version_minor": 0
      },
      "text/plain": [
       "HBox(children=(IntProgress(value=0, max=200000), HTML(value='')))"
      ]
     },
     "metadata": {},
     "output_type": "display_data"
    },
    {
     "name": "stdout",
     "output_type": "stream",
     "text": [
      "Epochs: 2000/200000\n",
      "Epochs: 4000/200000\n",
      "Epochs: 6000/200000\n",
      "Epochs: 8000/200000\n",
      "Epochs: 10000/200000\n",
      "Epochs: 12000/200000\n",
      "Epochs: 14000/200000\n",
      "Epochs: 16000/200000\n",
      "Epochs: 18000/200000\n",
      "Epochs: 20000/200000\n",
      "Epochs: 22000/200000\n",
      "Epochs: 24000/200000\n",
      "Epochs: 26000/200000\n",
      "Epochs: 28000/200000\n",
      "Epochs: 30000/200000\n",
      "Epochs: 32000/200000\n",
      "Epochs: 34000/200000\n",
      "Epochs: 36000/200000\n",
      "Epochs: 38000/200000\n",
      "Epochs: 40000/200000\n",
      "Epochs: 42000/200000\n",
      "Epochs: 44000/200000\n",
      "Epochs: 46000/200000\n",
      "Epochs: 48000/200000\n",
      "Epochs: 50000/200000\n",
      "Epochs: 52000/200000\n",
      "Epochs: 54000/200000\n",
      "Epochs: 56000/200000\n",
      "Epochs: 58000/200000\n",
      "Epochs: 60000/200000\n",
      "Epochs: 62000/200000\n",
      "Epochs: 64000/200000\n",
      "Epochs: 66000/200000\n",
      "Epochs: 68000/200000\n",
      "Epochs: 70000/200000\n",
      "Epochs: 72000/200000\n",
      "Epochs: 74000/200000\n",
      "Epochs: 76000/200000\n",
      "Epochs: 78000/200000\n",
      "Epochs: 80000/200000\n",
      "Epochs: 82000/200000\n",
      "Epochs: 84000/200000\n",
      "Epochs: 86000/200000\n",
      "Epochs: 88000/200000\n",
      "Epochs: 90000/200000\n",
      "Epochs: 92000/200000\n",
      "Epochs: 94000/200000\n",
      "Epochs: 96000/200000\n",
      "Epochs: 98000/200000\n",
      "Epochs: 100000/200000\n",
      "Epochs: 102000/200000\n",
      "Epochs: 104000/200000\n",
      "Epochs: 106000/200000\n",
      "Epochs: 108000/200000\n",
      "Epochs: 110000/200000\n",
      "Epochs: 112000/200000\n",
      "Epochs: 114000/200000\n",
      "Epochs: 116000/200000\n",
      "Epochs: 118000/200000\n",
      "Epochs: 120000/200000\n",
      "Epochs: 122000/200000\n",
      "Epochs: 124000/200000\n",
      "Epochs: 126000/200000\n",
      "Epochs: 128000/200000\n",
      "Epochs: 130000/200000\n",
      "Epochs: 132000/200000\n",
      "Epochs: 134000/200000\n",
      "Epochs: 136000/200000\n",
      "Epochs: 138000/200000\n",
      "Epochs: 140000/200000\n",
      "Epochs: 142000/200000\n",
      "Epochs: 144000/200000\n",
      "Epochs: 146000/200000\n",
      "Epochs: 148000/200000\n",
      "Epochs: 150000/200000\n",
      "Epochs: 152000/200000\n",
      "Epochs: 154000/200000\n",
      "Epochs: 156000/200000\n",
      "Epochs: 158000/200000\n",
      "Epochs: 160000/200000\n",
      "Epochs: 162000/200000\n",
      "Epochs: 164000/200000\n",
      "Epochs: 166000/200000\n",
      "Epochs: 168000/200000\n",
      "Epochs: 170000/200000\n",
      "Epochs: 172000/200000\n",
      "Epochs: 174000/200000\n",
      "Epochs: 176000/200000\n",
      "Epochs: 178000/200000\n",
      "Epochs: 180000/200000\n",
      "Epochs: 182000/200000\n",
      "Epochs: 184000/200000\n",
      "Epochs: 186000/200000\n",
      "Epochs: 188000/200000\n",
      "Epochs: 190000/200000\n",
      "Epochs: 192000/200000\n",
      "Epochs: 194000/200000\n",
      "Epochs: 196000/200000\n",
      "Epochs: 198000/200000\n",
      "Epochs: 200000/200000\n"
     ]
    },
    {
     "data": {
      "text/plain": [
       "[<matplotlib.lines.Line2D at 0x7fb8241355f8>]"
      ]
     },
     "execution_count": 43,
     "metadata": {},
     "output_type": "execute_result"
    },
    {
     "data": {
      "image/png": "[encoded data removed]",
      "text/plain": [
       "<Figure size 432x288 with 1 Axes>"
      ]
     },
     "metadata": {
      "needs_background": "light"
     },
     "output_type": "display_data"
    }
   ],
   "source": [
    "optimizer = torch.optim.Adam([w1,w2,w3,b1,b2,b3], lr = 0.001)\n",
    "epochs = 200000\n",
    "losses = []\n",
    "for i in tqdm(range(epochs)):\n",
    "    Sample = np.array(EncodedNames.sample().tolist()[0])\n",
    "    X = torch.FloatTensor(Sample)\n",
    "    hid,out = forward(X[0:-1])\n",
    "    lossVal = backward(out,X[1:])\n",
    "    losses.append(lossVal)\n",
    "    \n",
    "plt.plot(losses)"
   ]
  },
  {
   "cell_type": "code",
   "execution_count": 44,
   "metadata": {},
   "outputs": [],
   "source": [
    "def generate(startLetter=None,sillyFactor=0.25):\n",
    "    # if no start letter provided, pick one at random\n",
    "    if startLetter==None:\n",
    "        startLetter=token_to_char[round(np.random.rand()*max_token)]\n",
    "    if startLetter=='#':\n",
    "        return None\n",
    "    generated = [startLetter]\n",
    "    start = torch.FloatTensor(tokenEncoder(charTokenizer([startLetter])))\n",
    "    h_t = torch.randn(1,hidden_size)*sillyFactor\n",
    "    h_t,out = cycle(h_t,start)\n",
    "    out = torch.softmax(out,dim=1)\n",
    "    ## from one hot encoded output, back to the character\n",
    "    _, pos = out.max(dim=1)\n",
    "    out = torch.zeros(1,hidden_size)\n",
    "    out[:,pos]=1\n",
    "    # if the generated character is the stop token, return None\n",
    "    if token_to_char[int(pos)] == '#':\n",
    "        return None\n",
    "    generated.append(token_to_char[int(pos)])\n",
    "    # do a for loop and get an output until a stop token or \n",
    "    # max number of iterations\n",
    "    for i in range(24):\n",
    "        h_t,out = cycle(h_t,out)\n",
    "        out = torch.softmax(out,dim=1)\n",
    "        _, pos = out.max(dim=1)\n",
    "        out = torch.zeros(1,hidden_size)\n",
    "        out[:,pos]=1\n",
    "        if token_to_char[int(pos)] == '#':\n",
    "            break\n",
    "        generated.append(token_to_char[int(pos)])\n",
    "    #print(''.join(generated))\n",
    "    return ''.join(generated)"
   ]
  },
  {
   "cell_type": "code",
   "execution_count": 45,
   "metadata": {},
   "outputs": [],
   "source": [
    "nonSense = [generate(startLetter=None,sillyFactor=np.random.rand()) for i in range(100)]"
   ]
  },
  {
   "cell_type": "code",
   "execution_count": 46,
   "metadata": {},
   "outputs": [
    {
     "data": {
      "text/plain": [
       "['gos',\n",
       " 'tanonnosaurus',\n",
       " 'luronosaurus',\n",
       " 'randaurus',\n",
       " 'lurhosaurus',\n",
       " 'enonrus',\n",
       " 'irauraurus',\n",
       " 'uriosaurus',\n",
       " 'gaa',\n",
       " 'silosaurus',\n",
       " 'lnna',\n",
       " 'buulocosaurus',\n",
       " 'kaaruraeeonosaurus',\n",
       " 'auras',\n",
       " 'zinaakaurus',\n",
       " 'uaos',\n",
       " 'guraprus',\n",
       " 'gaanonopaurus',\n",
       " 'yreuraluteaosaurus',\n",
       " 'jinanosaurus',\n",
       " 'dianosaurus',\n",
       " 'rhoso',\n",
       " 'aulosaurus',\n",
       " 'genrosaurus',\n",
       " 'lumonosaurus',\n",
       " 'nanopaurus',\n",
       " 'neesilurulausaurus',\n",
       " 'leuruaurirunosaurus',\n",
       " 'nuraruaannosaurus',\n",
       " 'urusaurus',\n",
       " 'liurao',\n",
       " 'ysosaurus',\n",
       " 'xukron',\n",
       " 'ruunoras',\n",
       " 'trus',\n",
       " 'oriuris',\n",
       " None,\n",
       " None,\n",
       " 'huraninranosaurus',\n",
       " 'jadonosaurus',\n",
       " 'quratosaurus',\n",
       " 'teos',\n",
       " 'curnon',\n",
       " 'jearaonon',\n",
       " 'wbrira',\n",
       " 'nurasaurus',\n",
       " 'chehasaurus',\n",
       " 'ornaananosaurus',\n",
       " 'saurus',\n",
       " 'guosaurus',\n",
       " 'zurus',\n",
       " 'ojocosaurus',\n",
       " 'qura',\n",
       " 'tusaurus',\n",
       " 'ueraos',\n",
       " 'coanrno',\n",
       " 'urasaurus',\n",
       " 'aurasaurus',\n",
       " 'auraaosaurus',\n",
       " 'jrurulopon',\n",
       " 'avruauraurus',\n",
       " 'vurnonon',\n",
       " 'traurutosaurus',\n",
       " 'fukaurus',\n",
       " 'jinaosaurus',\n",
       " 'hasopon',\n",
       " 'namganonosaurus',\n",
       " 'maruaonosaurus',\n",
       " 'opraorus',\n",
       " 'auanrosaurus',\n",
       " 'saurus',\n",
       " 'fsurornosaurus',\n",
       " 'fsannos',\n",
       " None,\n",
       " 'nellanosaurus',\n",
       " 'kulusausaurus',\n",
       " 'asaurosaurus',\n",
       " 'aurosaurus',\n",
       " 'gosasaurus',\n",
       " 'nurelurasiraurus',\n",
       " 'trante',\n",
       " 'jubatonosaurus',\n",
       " 'nas',\n",
       " 'marcesasaurus',\n",
       " 'srosaurus',\n",
       " 'uurus',\n",
       " 'ialosaurus',\n",
       " 'helonosaurus',\n",
       " 'irileaagosaurus',\n",
       " 'lournsaurus',\n",
       " 'nenlurus',\n",
       " 'hsaus',\n",
       " None,\n",
       " 'mirus',\n",
       " 'frinosaurus',\n",
       " 'mnrchosaurus',\n",
       " 'rantosaurus',\n",
       " 'jasaurus',\n",
       " 'doreosaurus',\n",
       " 'kaanesaurus']"
      ]
     },
     "execution_count": 46,
     "metadata": {},
     "output_type": "execute_result"
    }
   ],
   "source": [
    "nonSense"
   ]
  },
  {
   "cell_type": "code",
   "execution_count": 47,
   "metadata": {},
   "outputs": [
    {
     "data": {
      "text/plain": [
       "['elopsaurus',\n",
       " 'epgus',\n",
       " 'nranosaurus',\n",
       " 'macosaurus',\n",
       " 'orochius',\n",
       " 'kranasaurus',\n",
       " 'antonrosaurus',\n",
       " 'sianosaurus',\n",
       " 'yurorosaurus',\n",
       " 'nonosaurus',\n",
       " 'hunororosaurus',\n",
       " 'quraosaurus',\n",
       " 'ranhosaurus',\n",
       " 'qurasaurus',\n",
       " 'baranosaurus',\n",
       " 'fsaurus',\n",
       " 'yangosaurus',\n",
       " 'jinod',\n",
       " 'gabgosaurus',\n",
       " 'qurasaurus',\n",
       " 'siaaosaurus',\n",
       " 'iranosaurus',\n",
       " 'husobosaurus',\n",
       " 'baranosaurus',\n",
       " None,\n",
       " 'gonnsaurus',\n",
       " 'hunasopon',\n",
       " 'zananos',\n",
       " 'wurhosaurus',\n",
       " 'qaraosaurus',\n",
       " 'pelosaurus',\n",
       " 'ysaurus',\n",
       " 'xilanosaurus',\n",
       " 'baraosaurus',\n",
       " 'mano',\n",
       " 'nemlnosaurus',\n",
       " 'galonnosaurus',\n",
       " 'jianosaurus',\n",
       " 'nelaig',\n",
       " 'elaanosaurus',\n",
       " 'fukaurus',\n",
       " 'lapsaurus',\n",
       " 'gasaurus',\n",
       " 'kalonosaurus',\n",
       " 'nanonosaurus',\n",
       " 'derlelearna',\n",
       " 'erlarosaurus',\n",
       " 'jianosaurus',\n",
       " 'aurus',\n",
       " 'utasaurus',\n",
       " 'saltasaurus',\n",
       " 'macosaurus',\n",
       " None,\n",
       " 'ysaurus',\n",
       " 'pronosaurus',\n",
       " 'velosaurus',\n",
       " 'zaoosaurus',\n",
       " 'koruronon',\n",
       " 'kalasaurus',\n",
       " 'zananosaurus',\n",
       " None,\n",
       " 'caritanonsaurus',\n",
       " 'vururus',\n",
       " 'epodnosaurus',\n",
       " 'illanosaurus',\n",
       " 'wenosaurus',\n",
       " 'manon',\n",
       " 'pronon',\n",
       " 'torosaurus',\n",
       " 'xianosaurus',\n",
       " 'manosaurus',\n",
       " 'wenosaurus',\n",
       " 'palaosaurus',\n",
       " 'valaosaurus',\n",
       " 'wecosaurus',\n",
       " 'saunosaurus',\n",
       " 'manosaurus',\n",
       " 'procosaurus',\n",
       " 'queasaurus',\n",
       " 'velosaurus',\n",
       " 'fuonon',\n",
       " 'kanonosaurus',\n",
       " 'unanosaurus',\n",
       " 'velangosaurus',\n",
       " 'lanaosaurus',\n",
       " 'uneanosaurus',\n",
       " 'eloanosaurus',\n",
       " 'dinanosaurus',\n",
       " None,\n",
       " 'sellosaurus',\n",
       " 'taranosaurus',\n",
       " 'lolosaurus',\n",
       " 'wenanosaurus',\n",
       " 'ysauraurus',\n",
       " 'zananosaurus',\n",
       " 'dosoan',\n",
       " 'qbrannropoosaurus',\n",
       " 'nanosaurus',\n",
       " 'gipnrosaurus',\n",
       " 'nesaurus']"
      ]
     },
     "execution_count": 47,
     "metadata": {},
     "output_type": "execute_result"
    }
   ],
   "source": [
    "[generate(startLetter=None,sillyFactor=0.1) for i in range(100)]"
   ]
  },
  {
   "cell_type": "code",
   "execution_count": null,
   "metadata": {},
   "outputs": [],
   "source": []
  }
 ],
 "metadata": {
  "kernelspec": {
   "display_name": "Python 3",
   "language": "python",
   "name": "python3"
  },
  "language_info": {
   "codemirror_mode": {
    "name": "ipython",
    "version": 3
   },
   "file_extension": ".py",
   "mimetype": "text/x-python",
   "name": "python",
   "nbconvert_exporter": "python",
   "pygments_lexer": "ipython3",
   "version": "3.6.7"
  }
 },
 "nbformat": 4,
 "nbformat_minor": 2
}

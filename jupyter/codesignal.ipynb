{
 "cells": [
  {
   "cell_type": "code",
   "execution_count": 162,
   "metadata": {},
   "outputs": [],
   "source": [
    "import numpy as np\n",
    "from collections import defaultdict\n",
    "from datetime import datetime"
   ]
  },
  {
   "cell_type": "markdown",
   "metadata": {},
   "source": [
    "# Interview Practice - Arrays"
   ]
  },
  {
   "cell_type": "code",
   "execution_count": 2,
   "metadata": {},
   "outputs": [],
   "source": [
    "def firstDuplicate(a):\n",
    "    d = {}\n",
    "    for i,val in enumerate(a):\n",
    "        if val in d:\n",
    "            return val\n",
    "        else:\n",
    "            d[val] = i\n",
    "    return -1"
   ]
  },
  {
   "cell_type": "code",
   "execution_count": 3,
   "metadata": {},
   "outputs": [],
   "source": [
    "def firstNotRepeatingCharacter(s):\n",
    "    l = []\n",
    "    for char in s:\n",
    "        if char in l: continue\n",
    "        if s.count(char) == 1:\n",
    "            return char\n",
    "        else:\n",
    "            l.append(char)\n",
    "    return '_'"
   ]
  },
  {
   "cell_type": "code",
   "execution_count": 4,
   "metadata": {},
   "outputs": [],
   "source": [
    "def rotateImage(a):\n",
    "    a = np.array(a)\n",
    "    return a.T[:,::-1]"
   ]
  },
  {
   "cell_type": "code",
   "execution_count": 5,
   "metadata": {},
   "outputs": [],
   "source": [
    "def sudoku2(grid):\n",
    "    \n",
    "    grid = np.array(grid)\n",
    "    if grid.shape != (9,9): return False\n",
    "    \n",
    "    def hasDuplicates(a):\n",
    "        return not np.all(np.unique(a, return_counts=True)[1][1:] == 1)\n",
    "    \n",
    "    for i in range(9):\n",
    "        if hasDuplicates(grid[:,i]): return False\n",
    "        if hasDuplicates(grid[i,:]): return False \n",
    "        \n",
    "    for i in range(0,9,3):\n",
    "        for j in range(0,9,3):\n",
    "            if hasDuplicates(grid[i:i+3,j:j+3]): return False\n",
    "\n",
    "    return True"
   ]
  },
  {
   "cell_type": "code",
   "execution_count": 6,
   "metadata": {},
   "outputs": [],
   "source": [
    "def isCryptSolution(crypt, solution):\n",
    "    \n",
    "    solution = dict(solution)\n",
    "    results = []\n",
    "    \n",
    "    for word in crypt:\n",
    "        decode = ''\n",
    "        for char in word:\n",
    "            decode += solution[char]\n",
    "        results.append(decode)\n",
    "\n",
    "    if any( [ (x[0]=='0') and (len(x)>1) for x in results] ): return False\n",
    "    \n",
    "    if int(results[0]) + int(results[1]) == int(results[2]):\n",
    "        return True\n",
    "    else:\n",
    "        return False"
   ]
  },
  {
   "cell_type": "markdown",
   "metadata": {},
   "source": [
    "# Interview Practice - Linked Lists"
   ]
  },
  {
   "cell_type": "code",
   "execution_count": 24,
   "metadata": {},
   "outputs": [],
   "source": [
    "# Definition for singly-linked list:\n",
    "class ListNode(object):\n",
    "    def __init__(self, x):\n",
    "        self.value = x\n",
    "        self.next = None"
   ]
  },
  {
   "cell_type": "code",
   "execution_count": 37,
   "metadata": {},
   "outputs": [],
   "source": [
    "# solution from metawrench\n",
    "def removeKFromList(l, k):\n",
    "    c = l\n",
    "    while c:\n",
    "        if c.next and c.next.value == k:\n",
    "            c.next = c.next.next\n",
    "        else:\n",
    "            c = c.next\n",
    "    return l.next if l and l.value == k else l"
   ]
  },
  {
   "cell_type": "code",
   "execution_count": null,
   "metadata": {},
   "outputs": [],
   "source": [
    "def isListPalindrome(l):"
   ]
  },
  {
   "cell_type": "markdown",
   "metadata": {},
   "source": [
    "Note: Try to solve this task in O(n) time using O(1) additional space, where n is the number of elements in l, since this is what you'll be asked to do during an interview.\n",
    "\n",
    "Given a singly linked list of integers, determine whether or not it's a palindrome.\n",
    "\n",
    "Note: in examples below and tests preview linked lists are presented as arrays just for simplicity of visualization: in real data you will be given a head node l of the linked list\n",
    "\n",
    "Example\n",
    "\n",
    "For l = [0, 1, 0], the output should be\n",
    "isListPalindrome(l) = true;\n",
    "\n",
    "For l = [1, 2, 2, 3], the output should be\n",
    "isListPalindrome(l) = false."
   ]
  },
  {
   "cell_type": "markdown",
   "metadata": {},
   "source": [
    "# Interview Practice - Hash Tables"
   ]
  },
  {
   "cell_type": "code",
   "execution_count": 113,
   "metadata": {},
   "outputs": [],
   "source": [
    "# mine\n",
    "def groupingDishes(dishes):\n",
    "    \n",
    "    dishes = {dishes[x][0]:dishes[x][1:] for x in range(len(dishes))}\n",
    "    \n",
    "    ingredients = []\n",
    "    for ing in dishes.values():\n",
    "        ingredients += ing\n",
    "    ingredients = list(set(ingredients))\n",
    "    ingredients.sort()\n",
    "    \n",
    "    ingredients_dic = {key:[] for key in ingredients}\n",
    "    for key in ingredients:\n",
    "        for dish,ing in dishes.items():\n",
    "            if key in ing: ingredients_dic[key].append(dish)\n",
    "    \n",
    "    results = []\n",
    "    for key,val in ingredients_dic.items():\n",
    "        if len(val) >= 2:\n",
    "            values = val\n",
    "            values.sort()\n",
    "            print(values)\n",
    "            results.append([key] + values)\n",
    "\n",
    "    return results\n",
    "\n",
    "# freemanlex\n",
    "def groupingDishes(dishes):\n",
    "    \n",
    "    D = {}\n",
    "    for dish in dishes:\n",
    "        dish_name = dish.pop(0)\n",
    "        for ingred in dish:\n",
    "            D[ingred] = D.get(ingred, []) + [dish_name]\n",
    "    return sorted([i] + sorted(v) for i, v in D.items() if len(v) > 1)"
   ]
  },
  {
   "cell_type": "code",
   "execution_count": 123,
   "metadata": {},
   "outputs": [],
   "source": [
    "# mine\n",
    "def areFollowingPatterns(strings, patterns):\n",
    "    codex = {}\n",
    "    for s,p in zip(strings, patterns):\n",
    "        if not p in codex:\n",
    "            if not s in codex.values():\n",
    "                codex[p] = s\n",
    "            else:\n",
    "                return False\n",
    "        else:\n",
    "            if codex[p] != s: return False\n",
    "    return codex\n",
    "\n",
    "# kottenator\n",
    "def areFollowingPatterns(strings, patterns):\n",
    "    return len(set(strings)) == len(set(patterns)) == len(set(zip(strings, patterns)))"
   ]
  },
  {
   "cell_type": "code",
   "execution_count": 181,
   "metadata": {},
   "outputs": [],
   "source": [
    "# mine\n",
    "def containsCloseNums(nums, k):\n",
    "    N = len(nums)\n",
    "    nums = np.array(nums, dtype=np.int32)\n",
    "    for pos,num in enumerate(nums):\n",
    "        if np.any( (nums[pos+1:min(pos+1+k,N)] == num) ): return True\n",
    "    return False"
   ]
  },
  {
   "cell_type": "code",
   "execution_count": 266,
   "metadata": {},
   "outputs": [
    {
     "data": {
      "text/plain": [
       "9"
      ]
     },
     "execution_count": 266,
     "metadata": {},
     "output_type": "execute_result"
    }
   ],
   "source": [
    "def possibleSums(coins, quantity):\n",
    "\n",
    "    from itertools import product\n",
    "    choices = [range(0, v*c+1, v) for v, c in zip(coins, quantity)]\n",
    "    sums = {sum(p) for p in product(*choices)}\n",
    "    return len(sums) - 1  # sum \"0\" isn't interesting\n",
    "    \n",
    "#     N = len(quantity)\n",
    "#     dims = [x+1 for x in quantity]\n",
    "#     M = np.zeros(dims)\n",
    "    \n",
    "#     for i in range(N):\n",
    "#         for j in range(0,dims[i]):\n",
    "#             M\n",
    "    \n",
    "#     d = {c:range(q+1) for c,q in zip(coins,quantity)}\n",
    "\n",
    "possibleSums([10,50,100],[1,2,1])"
   ]
  },
  {
   "cell_type": "code",
   "execution_count": 260,
   "metadata": {},
   "outputs": [
    {
     "data": {
      "text/plain": [
       "(2, 3, 2)"
      ]
     },
     "execution_count": 260,
     "metadata": {},
     "output_type": "execute_result"
    }
   ],
   "source": [
    "M.shape"
   ]
  },
  {
   "cell_type": "code",
   "execution_count": 249,
   "metadata": {},
   "outputs": [],
   "source": [
    "a = np.arange(2)\n",
    "b = np.arange(3)"
   ]
  },
  {
   "cell_type": "code",
   "execution_count": 253,
   "metadata": {},
   "outputs": [
    {
     "data": {
      "text/plain": [
       "(1, 2)"
      ]
     },
     "execution_count": 253,
     "metadata": {},
     "output_type": "execute_result"
    }
   ],
   "source": [
    "a[None,:] * b[]"
   ]
  },
  {
   "cell_type": "code",
   "execution_count": null,
   "metadata": {},
   "outputs": [],
   "source": []
  }
 ],
 "metadata": {
  "kernelspec": {
   "display_name": "Python 3",
   "language": "python",
   "name": "python3"
  },
  "language_info": {
   "codemirror_mode": {
    "name": "ipython",
    "version": 3
   },
   "file_extension": ".py",
   "mimetype": "text/x-python",
   "name": "python",
   "nbconvert_exporter": "python",
   "pygments_lexer": "ipython3",
   "version": "3.6.7"
  }
 },
 "nbformat": 4,
 "nbformat_minor": 2
}

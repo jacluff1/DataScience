{
 "cells": [
  {
   "cell_type": "markdown",
   "metadata": {},
   "source": [
    "# Import Dependencies"
   ]
  },
  {
   "cell_type": "code",
   "execution_count": 1,
   "metadata": {},
   "outputs": [],
   "source": [
    "import numpy as np\n",
    "import pandas as pd\n",
    "import sklearn\n",
    "import seaborn as sns\n",
    "import matplotlib.pyplot as plt\n",
    "%matplotlib inline"
   ]
  },
  {
   "cell_type": "markdown",
   "metadata": {},
   "source": [
    "# Functions"
   ]
  },
  {
   "cell_type": "code",
   "execution_count": null,
   "metadata": {},
   "outputs": [],
   "source": []
  },
  {
   "cell_type": "markdown",
   "metadata": {},
   "source": [
    "# Maps $\\Rightarrow$ Names to Class Names"
   ]
  },
  {
   "cell_type": "code",
   "execution_count": null,
   "metadata": {},
   "outputs": [],
   "source": [
    "model_selection_map = {\n",
    "    \n",
    "    # https://scikit-learn.org/stable/modules/generated/sklearn.model_selection.GridSearchCV.html\n",
    "    'grid search' : sklearn.model_selection.GridSearchCV,\n",
    "    \n",
    "    # https://scikit-learn.org/stable/modules/generated/sklearn.model_selection.RandomizedSearchCV.html\n",
    "    'random search' : sklearn.model_selection.RandomizedSearchCV,\n",
    "}\n",
    "\n",
    "split_map = {\n",
    "    \n",
    "    # https://scikit-learn.org/stable/modules/generated/sklearn.model_selection.train_test_split.html\n",
    "    'train test split' : sklearn.model_selection.train_test_split,\n",
    "    \n",
    "    # https://scikit-learn.org/stable/modules/generated/sklearn.model_selection.KFold.html\n",
    "    'k folds' : sklearn.model_selection.KFold,\n",
    "    \n",
    "    # https://scikit-learn.org/stable/modules/generated/sklearn.model_selection.StratifiedKFold.html\n",
    "    'stratified k folds' : sklearn.model_selection.StratifiedKFold\n",
    "}"
   ]
  },
  {
   "cell_type": "markdown",
   "metadata": {},
   "source": [
    "# Main Class Definitions"
   ]
  },
  {
   "cell_type": "code",
   "execution_count": null,
   "metadata": {},
   "outputs": [],
   "source": [
    "class base:\n",
    "    \n",
    "    def __init__(self, name, options, map_dict):\n",
    "        self.update(name, options)\n",
    "    \n",
    "    def update(self, name, options, map_dict):\n",
    "        assert name in map_dict, f\"{name} must be a key in the map dictionary. keys for dictionary provided are {map_dict.keys()}.\"\n",
    "        self.name = name\n",
    "        self.options = options\n",
    "        self.map = map_dict"
   ]
  },
  {
   "cell_type": "code",
   "execution_count": null,
   "metadata": {},
   "outputs": [],
   "source": [
    "class split(base):\n",
    "    \n",
    "    def __init__(self, name, options, map_dict=split_map):\n",
    "        super().__init__(name, options, map_dict)\n",
    "        \n",
    "    def make_sets(self, X, y):\n",
    "        \n",
    "        if self.name == 'train test split':\n",
    "            self.__train_test_split(X, y)\n",
    "        elif self.name == 'k folds':\n",
    "            self.__k_folds(X)\n",
    "        elif self.name == 'stratified k folds':\n",
    "            self.__stratified_k_folds(X, y)\n",
    "    \n",
    "    def __train_test_split(self, X, y):\n",
    "        Xtrain, Xtest, ytrain, ytest = self.map[self.name](X, y, **self.options)\n",
    "        self.train = {'X':Xtrain, 'y':ytrain}\n",
    "        self.test = {'X':Xtest, 'y':ytest}\n",
    "    \n",
    "    def __k_folds(self, X):\n",
    "        kfolds = self.map[self.name](**self.options)\n",
    "        self.kfolds = {i:{'train':train_indices, 'test':test_indicies} for i,(train_indices,test_indices) in enumerate(kfolds.split(X))}\n",
    "    \n",
    "    def __stratified_k_folds(self, X, y):\n",
    "        kfolds = self.map[self.name](**self.options)\n",
    "        self.kfolds = {i:{'train':train_indices, 'test':test_indices} for i,(train_indices,test_indices) in enumerate(kfolds.split(X,y))}"
   ]
  },
  {
   "cell_type": "code",
   "execution_count": null,
   "metadata": {},
   "outputs": [],
   "source": [
    "class model_selection(base):\n",
    "    \n",
    "    def __init__(self, name, options, map_dict=model_selection_map):\n",
    "        super().__init__(name, options, map_dict)"
   ]
  },
  {
   "cell_type": "code",
   "execution_count": null,
   "metadata": {},
   "outputs": [],
   "source": [
    "class model:\n",
    "    \n",
    "    def __init__(self):\n",
    "        pass"
   ]
  },
  {
   "cell_type": "code",
   "execution_count": null,
   "metadata": {},
   "outputs": [],
   "source": [
    "class brute_force_explore:\n",
    "    \n",
    "    def __init__(self):\n",
    "        pass"
   ]
  },
  {
   "cell_type": "code",
   "execution_count": null,
   "metadata": {},
   "outputs": [],
   "source": [
    "np.bincount()"
   ]
  },
  {
   "cell_type": "code",
   "execution_count": null,
   "metadata": {},
   "outputs": [],
   "source": [
    "sklearn.mod"
   ]
  },
  {
   "cell_type": "markdown",
   "metadata": {},
   "source": [
    "# Simulate Data"
   ]
  },
  {
   "cell_type": "code",
   "execution_count": null,
   "metadata": {},
   "outputs": [],
   "source": [
    "N,K,D = 1000,3,2\n",
    "\n",
    "X = np.vstack((\n",
    "    np.random.randn(N//K,D) + np.array([2,2]),\n",
    "    np.random.randn(N//K,D) + np.array([2,-2]),\n",
    "    np.random.randn(N//K,D) + np.array([-2,0])\n",
    "))\n",
    "\n",
    "y = np.array([0]*(N//K) + [1]*(N//K) + [2]*(N//K))"
   ]
  },
  {
   "cell_type": "markdown",
   "metadata": {},
   "source": [
    "# Example - Random Forest Classifiation"
   ]
  },
  {
   "cell_type": "code",
   "execution_count": null,
   "metadata": {},
   "outputs": [],
   "source": [
    "rf = sklearn.ensemble.RandomForestClassifier(n_estimators=100)"
   ]
  },
  {
   "cell_type": "code",
   "execution_count": null,
   "metadata": {},
   "outputs": [],
   "source": [
    "Xtrain, Xtest, ytrain, ytest = sklearn.model_selection.train_test_split(X,y)"
   ]
  },
  {
   "cell_type": "code",
   "execution_count": null,
   "metadata": {},
   "outputs": [],
   "source": [
    "rf.fit(Xtrain, ytrain)"
   ]
  },
  {
   "cell_type": "code",
   "execution_count": null,
   "metadata": {},
   "outputs": [],
   "source": [
    "yhat = rf.predict(Xtest)\n",
    "np.mean(yhat == ytest)"
   ]
  },
  {
   "cell_type": "code",
   "execution_count": null,
   "metadata": {},
   "outputs": [],
   "source": [
    "kf = sklearn.model_selection.KFold(n_splits=2)\n",
    "folds = {i:{'train':train_index, 'test':test_index} for i,(train_index,test_index) in enumerate(kf.split(X))}\n",
    "# for i, (train_index, test_index) in enumerate(kf.split(X)):\n",
    "#     print(\"TRAIN:\", train_index, \"TEST:\", test_index)\n",
    "#     X_train, X_test = X[train_index], X[test_index]\n",
    "#     y_train, y_test = y[train_index], y[test_index]"
   ]
  },
  {
   "cell_type": "code",
   "execution_count": null,
   "metadata": {},
   "outputs": [],
   "source": [
    "folds[0]"
   ]
  },
  {
   "cell_type": "code",
   "execution_count": null,
   "metadata": {},
   "outputs": [],
   "source": [
    "kwargs = {\n",
    "    \n",
    "    # model\n",
    "    'model' : 'random forest',\n",
    "    'model_options' : {\n",
    "        'n_estimators' : 'warn',\n",
    "        'criterion' : 'gini',\n",
    "        'max_depth' : None,\n",
    "        'min_samples_split' : 2,\n",
    "        'min_samples_leaf' : 1,\n",
    "        'min_weight_fraction_leaf' : 0.0,\n",
    "        'max_features' : 'auto',\n",
    "        'max_leaf_nodes' : None,\n",
    "        'min_impurity_decrease' : 0.0,\n",
    "        'min_impurity_split' : None,\n",
    "        'bootstrap' : True,\n",
    "        'oob_score' : False,\n",
    "        'n_jobs' : None,\n",
    "        'random_state' : None,\n",
    "        'verbose' : 0,\n",
    "        'warm_start' : False,\n",
    "        'class_weight' : None,\n",
    "    },\n",
    "    \n",
    "    # hyperparameter tuning (model selection)\n",
    "    # 'train test split' : https://scikit-learn.org/stable/modules/generated/sklearn.model_selection.train_test_split.html\n",
    "    # 'k folds' : \n",
    "    'tuning' : 'train test split',\n",
    "    'tuning_options' : {\n",
    "        'test_size' : 0.2,\n",
    "        'train_size' : None,\n",
    "        'random_state' : None,\n",
    "        'shuffle' : True,\n",
    "        'stratify' : None\n",
    "    },\n",
    "    \n",
    "    # cross validation options\n",
    "    # random: https://scikit-learn.org/stable/modules/generated/sklearn.model_selection.RandomizedSearchCV.html\n",
    "    # grid: https://scikit-learn.org/stable/modules/generated/sklearn.model_selection.GridSearchCV.html\n",
    "    'cross_validation' : 'train test split',\n",
    "    'cross_validation_options' : {\n",
    "        'n_iter' : 10,\n",
    "        'scoring' : None,\n",
    "        'n_jobs' : None,\n",
    "        'iid' : 'warn',\n",
    "        'refit' : True,\n",
    "        'cv' : 'warn',\n",
    "        'verbose' : 0,\n",
    "        'pre_dispatch' : '2*n_jobs',\n",
    "        'random_state' : None,\n",
    "        'error_score' : 'raise-deprecating',\n",
    "        'return_train_score' : False\n",
    "    }\n",
    "    \n",
    "}"
   ]
  }
 ],
 "metadata": {
  "kernelspec": {
   "display_name": "Python 3",
   "language": "python",
   "name": "python3"
  },
  "language_info": {
   "codemirror_mode": {
    "name": "ipython",
    "version": 3
   },
   "file_extension": ".py",
   "mimetype": "text/x-python",
   "name": "python",
   "nbconvert_exporter": "python",
   "pygments_lexer": "ipython3",
   "version": "3.6.7"
  }
 },
 "nbformat": 4,
 "nbformat_minor": 2
}
